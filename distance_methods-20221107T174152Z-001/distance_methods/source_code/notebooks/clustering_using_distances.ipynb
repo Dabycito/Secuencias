{
 "cells": [
  {
   "cell_type": "code",
   "execution_count": 1,
   "metadata": {},
   "outputs": [],
   "source": [
    "import pandas as pd\n"
   ]
  },
  {
   "cell_type": "code",
   "execution_count": 116,
   "metadata": {},
   "outputs": [
    {
     "data": {
      "text/plain": "              id_seq1  target_seq1         id_seq2  target_seq2  distance\n0      sequence_53082         55.0  sequence_19402         43.0       1.0\n1      sequence_53082         55.0  sequence_20054         49.0       1.0\n2      sequence_53082         55.0  sequence_20048         39.8       1.0\n3      sequence_53082         55.0  sequence_20036         52.9       1.0\n4      sequence_53082         55.0  sequence_19525         48.8       1.0\n...               ...          ...             ...          ...       ...\n67855  sequence_19401         47.4  sequence_53056         52.0       1.0\n67856  sequence_19401         47.4  sequence_19347         58.9       1.0\n67857  sequence_19401         47.4  sequence_19379         50.3       1.0\n67858  sequence_19401         47.4  sequence_19348         46.7       1.0\n67859  sequence_19401         47.4  sequence_19380         48.1       1.0\n\n[67860 rows x 5 columns]",
      "text/html": "<div>\n<style scoped>\n    .dataframe tbody tr th:only-of-type {\n        vertical-align: middle;\n    }\n\n    .dataframe tbody tr th {\n        vertical-align: top;\n    }\n\n    .dataframe thead th {\n        text-align: right;\n    }\n</style>\n<table border=\"1\" class=\"dataframe\">\n  <thead>\n    <tr style=\"text-align: right;\">\n      <th></th>\n      <th>id_seq1</th>\n      <th>target_seq1</th>\n      <th>id_seq2</th>\n      <th>target_seq2</th>\n      <th>distance</th>\n    </tr>\n  </thead>\n  <tbody>\n    <tr>\n      <th>0</th>\n      <td>sequence_53082</td>\n      <td>55.0</td>\n      <td>sequence_19402</td>\n      <td>43.0</td>\n      <td>1.0</td>\n    </tr>\n    <tr>\n      <th>1</th>\n      <td>sequence_53082</td>\n      <td>55.0</td>\n      <td>sequence_20054</td>\n      <td>49.0</td>\n      <td>1.0</td>\n    </tr>\n    <tr>\n      <th>2</th>\n      <td>sequence_53082</td>\n      <td>55.0</td>\n      <td>sequence_20048</td>\n      <td>39.8</td>\n      <td>1.0</td>\n    </tr>\n    <tr>\n      <th>3</th>\n      <td>sequence_53082</td>\n      <td>55.0</td>\n      <td>sequence_20036</td>\n      <td>52.9</td>\n      <td>1.0</td>\n    </tr>\n    <tr>\n      <th>4</th>\n      <td>sequence_53082</td>\n      <td>55.0</td>\n      <td>sequence_19525</td>\n      <td>48.8</td>\n      <td>1.0</td>\n    </tr>\n    <tr>\n      <th>...</th>\n      <td>...</td>\n      <td>...</td>\n      <td>...</td>\n      <td>...</td>\n      <td>...</td>\n    </tr>\n    <tr>\n      <th>67855</th>\n      <td>sequence_19401</td>\n      <td>47.4</td>\n      <td>sequence_53056</td>\n      <td>52.0</td>\n      <td>1.0</td>\n    </tr>\n    <tr>\n      <th>67856</th>\n      <td>sequence_19401</td>\n      <td>47.4</td>\n      <td>sequence_19347</td>\n      <td>58.9</td>\n      <td>1.0</td>\n    </tr>\n    <tr>\n      <th>67857</th>\n      <td>sequence_19401</td>\n      <td>47.4</td>\n      <td>sequence_19379</td>\n      <td>50.3</td>\n      <td>1.0</td>\n    </tr>\n    <tr>\n      <th>67858</th>\n      <td>sequence_19401</td>\n      <td>47.4</td>\n      <td>sequence_19348</td>\n      <td>46.7</td>\n      <td>1.0</td>\n    </tr>\n    <tr>\n      <th>67859</th>\n      <td>sequence_19401</td>\n      <td>47.4</td>\n      <td>sequence_19380</td>\n      <td>48.1</td>\n      <td>1.0</td>\n    </tr>\n  </tbody>\n</table>\n<p>67860 rows × 5 columns</p>\n</div>"
     },
     "execution_count": 116,
     "metadata": {},
     "output_type": "execute_result"
    }
   ],
   "source": [
    "df_distances = pd.read_csv(\"../../results_demo/T50/FFT/Group_1/Hamming/distance_estimator.csv\")\n",
    "df_distances"
   ]
  },
  {
   "cell_type": "code",
   "execution_count": 117,
   "metadata": {},
   "outputs": [
    {
     "name": "stdout",
     "output_type": "stream",
     "text": [
      "1.0 1.0\n",
      "1.0 1.0\n"
     ]
    }
   ],
   "source": [
    "#filtramos las distancias para trabajar con solo una parte de ellas -> nos interesan solo las más cercanas\n",
    "import numpy as np\n",
    "\n",
    "q1 = np.quantile(df_distances['distance'], .25)\n",
    "q3 = np.quantile(df_distances['distance'], .75)\n",
    "\n",
    "print(q3, q1)\n",
    "IQR = q3 - q1\n",
    "IQR = 1 * IQR\n",
    "\n",
    "low_freq = q1 - IQR\n",
    "high_freq = q3 + IQR\n",
    "\n",
    "print(low_freq, high_freq)\n",
    "\n",
    "df_filter = df_distances.loc[df_distances['distance'] <= q3]\n",
    "df_filter = df_filter.reset_index()"
   ]
  },
  {
   "cell_type": "code",
   "execution_count": 118,
   "metadata": {},
   "outputs": [
    {
     "data": {
      "text/plain": "       index         id_seq1  target_seq1         id_seq2  target_seq2  \\\n0          0  sequence_53082         55.0  sequence_19402         43.0   \n1          1  sequence_53082         55.0  sequence_20054         49.0   \n2          2  sequence_53082         55.0  sequence_20048         39.8   \n3          3  sequence_53082         55.0  sequence_20036         52.9   \n4          4  sequence_53082         55.0  sequence_19525         48.8   \n...      ...             ...          ...             ...          ...   \n67855  67855  sequence_19401         47.4  sequence_53056         52.0   \n67856  67856  sequence_19401         47.4  sequence_19347         58.9   \n67857  67857  sequence_19401         47.4  sequence_19379         50.3   \n67858  67858  sequence_19401         47.4  sequence_19348         46.7   \n67859  67859  sequence_19401         47.4  sequence_19380         48.1   \n\n       distance  \n0           1.0  \n1           1.0  \n2           1.0  \n3           1.0  \n4           1.0  \n...         ...  \n67855       1.0  \n67856       1.0  \n67857       1.0  \n67858       1.0  \n67859       1.0  \n\n[67860 rows x 6 columns]",
      "text/html": "<div>\n<style scoped>\n    .dataframe tbody tr th:only-of-type {\n        vertical-align: middle;\n    }\n\n    .dataframe tbody tr th {\n        vertical-align: top;\n    }\n\n    .dataframe thead th {\n        text-align: right;\n    }\n</style>\n<table border=\"1\" class=\"dataframe\">\n  <thead>\n    <tr style=\"text-align: right;\">\n      <th></th>\n      <th>index</th>\n      <th>id_seq1</th>\n      <th>target_seq1</th>\n      <th>id_seq2</th>\n      <th>target_seq2</th>\n      <th>distance</th>\n    </tr>\n  </thead>\n  <tbody>\n    <tr>\n      <th>0</th>\n      <td>0</td>\n      <td>sequence_53082</td>\n      <td>55.0</td>\n      <td>sequence_19402</td>\n      <td>43.0</td>\n      <td>1.0</td>\n    </tr>\n    <tr>\n      <th>1</th>\n      <td>1</td>\n      <td>sequence_53082</td>\n      <td>55.0</td>\n      <td>sequence_20054</td>\n      <td>49.0</td>\n      <td>1.0</td>\n    </tr>\n    <tr>\n      <th>2</th>\n      <td>2</td>\n      <td>sequence_53082</td>\n      <td>55.0</td>\n      <td>sequence_20048</td>\n      <td>39.8</td>\n      <td>1.0</td>\n    </tr>\n    <tr>\n      <th>3</th>\n      <td>3</td>\n      <td>sequence_53082</td>\n      <td>55.0</td>\n      <td>sequence_20036</td>\n      <td>52.9</td>\n      <td>1.0</td>\n    </tr>\n    <tr>\n      <th>4</th>\n      <td>4</td>\n      <td>sequence_53082</td>\n      <td>55.0</td>\n      <td>sequence_19525</td>\n      <td>48.8</td>\n      <td>1.0</td>\n    </tr>\n    <tr>\n      <th>...</th>\n      <td>...</td>\n      <td>...</td>\n      <td>...</td>\n      <td>...</td>\n      <td>...</td>\n      <td>...</td>\n    </tr>\n    <tr>\n      <th>67855</th>\n      <td>67855</td>\n      <td>sequence_19401</td>\n      <td>47.4</td>\n      <td>sequence_53056</td>\n      <td>52.0</td>\n      <td>1.0</td>\n    </tr>\n    <tr>\n      <th>67856</th>\n      <td>67856</td>\n      <td>sequence_19401</td>\n      <td>47.4</td>\n      <td>sequence_19347</td>\n      <td>58.9</td>\n      <td>1.0</td>\n    </tr>\n    <tr>\n      <th>67857</th>\n      <td>67857</td>\n      <td>sequence_19401</td>\n      <td>47.4</td>\n      <td>sequence_19379</td>\n      <td>50.3</td>\n      <td>1.0</td>\n    </tr>\n    <tr>\n      <th>67858</th>\n      <td>67858</td>\n      <td>sequence_19401</td>\n      <td>47.4</td>\n      <td>sequence_19348</td>\n      <td>46.7</td>\n      <td>1.0</td>\n    </tr>\n    <tr>\n      <th>67859</th>\n      <td>67859</td>\n      <td>sequence_19401</td>\n      <td>47.4</td>\n      <td>sequence_19380</td>\n      <td>48.1</td>\n      <td>1.0</td>\n    </tr>\n  </tbody>\n</table>\n<p>67860 rows × 6 columns</p>\n</div>"
     },
     "execution_count": 118,
     "metadata": {},
     "output_type": "execute_result"
    }
   ],
   "source": [
    "df_filter"
   ]
  },
  {
   "cell_type": "code",
   "execution_count": 118,
   "metadata": {},
   "outputs": [],
   "source": []
  },
  {
   "cell_type": "code",
   "execution_count": 119,
   "metadata": {},
   "outputs": [],
   "source": [
    "import community as community_louvain\n",
    "import networkx as nx"
   ]
  },
  {
   "cell_type": "code",
   "execution_count": 120,
   "metadata": {},
   "outputs": [],
   "source": [
    "graph_data = nx.Graph()\n",
    "\n",
    "id_list1 = df_filter['id_seq1'].to_list()\n",
    "id_list2 = df_filter['id_seq2'].to_list()\n",
    "\n",
    "nodos = id_list1 + id_list2\n",
    "nodos = list(set(nodos))\n",
    "\n",
    "#cargar nodos\n",
    "for node in nodos:\n",
    "    graph_data.add_node(node)\n",
    "\n",
    "#cargar aristas\n",
    "for i in range(len(df_filter)):\n",
    "    graph_data.add_edge(df_filter['id_seq1'][i],\n",
    "        df_filter['id_seq2'][i],\n",
    "        weigth=df_filter['distance'][i]\n",
    "    )"
   ]
  },
  {
   "cell_type": "code",
   "execution_count": 121,
   "metadata": {},
   "outputs": [
    {
     "name": "stdout",
     "output_type": "stream",
     "text": [
      "Modularity:  0.0\n"
     ]
    }
   ],
   "source": [
    "partition = community_louvain.best_partition(graph_data)\n",
    "modularity_value = round(community_louvain.modularity(partition, graph_data), 3)\n",
    "\n",
    "print(\"Modularity: \", modularity_value)"
   ]
  },
  {
   "cell_type": "code",
   "execution_count": 122,
   "metadata": {},
   "outputs": [],
   "source": [
    "#obtenemos los grupos\n",
    "matrix_group = []\n",
    "for element in partition:\n",
    "    row = [element, partition[element]]\n",
    "    matrix_group.append(row)\n",
    "results = pd.DataFrame(matrix_group, columns=['id', 'label'])\n",
    "\n",
    "results.to_csv(\"../../results_demo/T50/FFT/Group_1/Hamming/graph_clustering_sequences.csv\", index=False)"
   ]
  },
  {
   "cell_type": "code",
   "execution_count": null,
   "outputs": [],
   "source": [],
   "metadata": {
    "collapsed": false
   }
  }
 ],
 "metadata": {
  "kernelspec": {
   "display_name": "Python 3.10.6 ('deep_learning_exploring')",
   "language": "python",
   "name": "python3"
  },
  "language_info": {
   "codemirror_mode": {
    "name": "ipython",
    "version": 3
   },
   "file_extension": ".py",
   "mimetype": "text/x-python",
   "name": "python",
   "nbconvert_exporter": "python",
   "pygments_lexer": "ipython3",
   "version": "3.10.6"
  },
  "orig_nbformat": 4,
  "vscode": {
   "interpreter": {
    "hash": "40e745f296283c3457427b1d4d0e6f488c7d44751c90dcd83420fd4dcb83c0cc"
   }
  }
 },
 "nbformat": 4,
 "nbformat_minor": 2
}
