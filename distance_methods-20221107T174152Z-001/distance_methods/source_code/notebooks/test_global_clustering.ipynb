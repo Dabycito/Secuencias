{
 "cells": [
  {
   "cell_type": "code",
   "execution_count": 1,
   "metadata": {
    "collapsed": true
   },
   "outputs": [],
   "source": [
    "import pandas as pd"
   ]
  },
  {
   "cell_type": "code",
   "execution_count": 2,
   "outputs": [],
   "source": [
    "dataset = {\n",
    "    0 : \"absorption\",\n",
    "    1 : \"enantioselectivity\",\n",
    "    2 : \"localization\",\n",
    "    3 : \"T50\"\n",
    "}\n",
    "method = {\n",
    "    0:\"FFT\",\n",
    "    1:\"NLP\",\n",
    "    2:\"Properties\"\n",
    "}\n",
    "bioembedding = {\n",
    "    0:\"bepler\",\n",
    "    1:\"esm\",\n",
    "    2:\"fasttext\",\n",
    "    3:\"plus_rnn\",\n",
    "    4:\"prottrans\"\n",
    "}\n",
    "distances = {\n",
    "    1 : \"Euclidean\",\n",
    "    2 : \"Braycurtis\",\n",
    "    3 : \"Canberra\",\n",
    "    4 : \"Chebyshev\",\n",
    "    5 : \"Cityblock\",\n",
    "    6 : \"Correlation\",\n",
    "    7 : \"Cosine\",\n",
    "    8 : \"Minkowski\",\n",
    "    9 : \"Hamming\"\n",
    "}\n",
    "parent = {\n",
    "    0 : \"sequence_40826\",\n",
    "}"
   ],
   "metadata": {
    "collapsed": false
   }
  },
  {
   "cell_type": "code",
   "execution_count": null,
   "outputs": [],
   "source": [
    "for a in range (0,4): #Se elije el dataset\n",
    "    for b in range(0,3): #Se elije el metodo de representacion numerica\n",
    "        if b==2: #Si es NLP entra a este if\n",
    "            for c in range(0,5): #Cual de los 5 metodos de PLM\n",
    "                for d in range(1,10): #Se elije la distancia\n",
    "                    df_profiles = pd.read_csv(\"../../results_demo/\"+dataset[a]+\"/\"+method[b]+\"/\"+bioembedding[c]+\"/\"+distances[d]+\"/generated_profiles.csv\")\n",
    "                    df_distances = pd.read_csv(\"../../results_demo/\"+dataset[a]+\"/\"+method[b]+\"/\"+bioembedding[c]+\"/\"+distances[d]+\"/distance_estimator.csv\")\n",
    "                    profiles = df_profiles.profile.unique()\n",
    "                    for f in range(0,len(profiles)): #para entrar a cada perfil\n",
    "                        df_f = (df_profiles[\"profile\"] == profiles[f])\n",
    "                        clust_aux = df_profiles[df_f]\n",
    "                        Cluster = pd.DataFrame()\n",
    "                        if a == 0: #Absorption\n",
    "                            for g in range(0,len(clust_aux.index)): #Esto para elegir la o las nativas\n",
    "                                df_filter = df_distances[(df_distances.id_seq1==parent[0]) & (df_distances.id_seq2 == clust_aux.iloc[g][0])]\n",
    "                                Cluster = pd.concat([Cluster,df_filter])\n",
    "                            Cluster.to_csv(\"../../results_demo/\"+dataset[a]+\"/NLP/\"+bioembedding[c]+\"/\"+distances[d]+\"/clusters/cluster\"+profiles[f]+\".csv\")\n",
    "                        if a == 1: #Enantioselectivity\n",
    "                        if a == 2: #Localization\n",
    "                        if a == 3: #T50\n",
    "        else: #Si es por propiedades o FFT\n",
    "            poto\n",
    "\n",
    "\n"
   ],
   "metadata": {
    "collapsed": false
   }
  },
  {
   "cell_type": "code",
   "execution_count": null,
   "outputs": [],
   "source": [],
   "metadata": {
    "collapsed": false
   }
  }
 ],
 "metadata": {
  "kernelspec": {
   "display_name": "Python 3",
   "language": "python",
   "name": "python3"
  },
  "language_info": {
   "codemirror_mode": {
    "name": "ipython",
    "version": 2
   },
   "file_extension": ".py",
   "mimetype": "text/x-python",
   "name": "python",
   "nbconvert_exporter": "python",
   "pygments_lexer": "ipython2",
   "version": "2.7.6"
  }
 },
 "nbformat": 4,
 "nbformat_minor": 0
}
