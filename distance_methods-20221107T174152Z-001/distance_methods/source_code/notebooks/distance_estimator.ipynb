{
 "cells": [
  {
   "cell_type": "markdown",
   "metadata": {},
   "source": [
    "<h3> Estimador de distancias entre vectores </h3>"
   ]
  },
  {
   "cell_type": "code",
   "execution_count": 1,
   "metadata": {},
   "outputs": [],
   "source": [
    "import pandas as pd\n",
    "import sys\n"
   ]
  },
  {
   "cell_type": "code",
   "execution_count": 3,
   "metadata": {},
   "outputs": [],
   "source": [
    "#agregamos el directorio con la informacion\n",
    "sys.path.insert(0, '../distance_estimator/')"
   ]
  },
  {
   "cell_type": "code",
   "execution_count": 4,
   "metadata": {},
   "outputs": [
    {
     "name": "stdout",
     "output_type": "stream",
     "text": [
      "Preparing imports\n"
     ]
    }
   ],
   "source": [
    "print(\"Preparing imports\")\n",
    "\n",
    "from distance_estimator import distance_estimator\n",
    "from constant_values import constant_values"
   ]
  },
  {
   "cell_type": "code",
   "execution_count": 5,
   "metadata": {},
   "outputs": [],
   "source": [
    "#definicion de parametros\n",
    "input_data = pd.read_csv(\"../../results_demo/T50/FFT/Group_0/fft-Group_0-T50.csv\")\n",
    "name_export = \"../../results_demo/T50/FFT/Group_0/distance_estimator.csv\"\n",
    "column_with_response = \"target\"\n",
    "column_with_id = \"id\""
   ]
  },
  {
   "cell_type": "code",
   "execution_count": 6,
   "metadata": {},
   "outputs": [
    {
     "name": "stdout",
     "output_type": "stream",
     "text": [
      "Start distance calculator\n",
      "Process response\n",
      "../../results_demo/T50/FFT/Group_0/distance_estimator.csv\n"
     ]
    },
    {
     "data": {
      "text/html": [
       "<div>\n",
       "<style scoped>\n",
       "    .dataframe tbody tr th:only-of-type {\n",
       "        vertical-align: middle;\n",
       "    }\n",
       "\n",
       "    .dataframe tbody tr th {\n",
       "        vertical-align: top;\n",
       "    }\n",
       "\n",
       "    .dataframe thead th {\n",
       "        text-align: right;\n",
       "    }\n",
       "</style>\n",
       "<table border=\"1\" class=\"dataframe\">\n",
       "  <thead>\n",
       "    <tr style=\"text-align: right;\">\n",
       "      <th></th>\n",
       "      <th>id_seq1</th>\n",
       "      <th>target_seq1</th>\n",
       "      <th>id_seq2</th>\n",
       "      <th>target_seq2</th>\n",
       "      <th>distance</th>\n",
       "    </tr>\n",
       "  </thead>\n",
       "  <tbody>\n",
       "    <tr>\n",
       "      <th>0</th>\n",
       "      <td>sequence_53082</td>\n",
       "      <td>55.0</td>\n",
       "      <td>sequence_19402</td>\n",
       "      <td>43.0</td>\n",
       "      <td>38663.916973</td>\n",
       "    </tr>\n",
       "    <tr>\n",
       "      <th>1</th>\n",
       "      <td>sequence_53082</td>\n",
       "      <td>55.0</td>\n",
       "      <td>sequence_20054</td>\n",
       "      <td>49.0</td>\n",
       "      <td>38403.350335</td>\n",
       "    </tr>\n",
       "    <tr>\n",
       "      <th>2</th>\n",
       "      <td>sequence_53082</td>\n",
       "      <td>55.0</td>\n",
       "      <td>sequence_20048</td>\n",
       "      <td>39.8</td>\n",
       "      <td>37989.963358</td>\n",
       "    </tr>\n",
       "    <tr>\n",
       "      <th>3</th>\n",
       "      <td>sequence_53082</td>\n",
       "      <td>55.0</td>\n",
       "      <td>sequence_20036</td>\n",
       "      <td>52.9</td>\n",
       "      <td>37428.543420</td>\n",
       "    </tr>\n",
       "    <tr>\n",
       "      <th>4</th>\n",
       "      <td>sequence_53082</td>\n",
       "      <td>55.0</td>\n",
       "      <td>sequence_19525</td>\n",
       "      <td>48.8</td>\n",
       "      <td>37811.339553</td>\n",
       "    </tr>\n",
       "    <tr>\n",
       "      <th>...</th>\n",
       "      <td>...</td>\n",
       "      <td>...</td>\n",
       "      <td>...</td>\n",
       "      <td>...</td>\n",
       "      <td>...</td>\n",
       "    </tr>\n",
       "    <tr>\n",
       "      <th>67855</th>\n",
       "      <td>sequence_19401</td>\n",
       "      <td>47.4</td>\n",
       "      <td>sequence_53056</td>\n",
       "      <td>52.0</td>\n",
       "      <td>19825.366654</td>\n",
       "    </tr>\n",
       "    <tr>\n",
       "      <th>67856</th>\n",
       "      <td>sequence_19401</td>\n",
       "      <td>47.4</td>\n",
       "      <td>sequence_19347</td>\n",
       "      <td>58.9</td>\n",
       "      <td>16852.986398</td>\n",
       "    </tr>\n",
       "    <tr>\n",
       "      <th>67857</th>\n",
       "      <td>sequence_19401</td>\n",
       "      <td>47.4</td>\n",
       "      <td>sequence_19379</td>\n",
       "      <td>50.3</td>\n",
       "      <td>10269.414721</td>\n",
       "    </tr>\n",
       "    <tr>\n",
       "      <th>67858</th>\n",
       "      <td>sequence_19401</td>\n",
       "      <td>47.4</td>\n",
       "      <td>sequence_19348</td>\n",
       "      <td>46.7</td>\n",
       "      <td>27063.790047</td>\n",
       "    </tr>\n",
       "    <tr>\n",
       "      <th>67859</th>\n",
       "      <td>sequence_19401</td>\n",
       "      <td>47.4</td>\n",
       "      <td>sequence_19380</td>\n",
       "      <td>48.1</td>\n",
       "      <td>24600.864835</td>\n",
       "    </tr>\n",
       "  </tbody>\n",
       "</table>\n",
       "<p>67860 rows × 5 columns</p>\n",
       "</div>"
      ],
      "text/plain": [
       "              id_seq1  target_seq1         id_seq2  target_seq2      distance\n",
       "0      sequence_53082         55.0  sequence_19402         43.0  38663.916973\n",
       "1      sequence_53082         55.0  sequence_20054         49.0  38403.350335\n",
       "2      sequence_53082         55.0  sequence_20048         39.8  37989.963358\n",
       "3      sequence_53082         55.0  sequence_20036         52.9  37428.543420\n",
       "4      sequence_53082         55.0  sequence_19525         48.8  37811.339553\n",
       "...               ...          ...             ...          ...           ...\n",
       "67855  sequence_19401         47.4  sequence_53056         52.0  19825.366654\n",
       "67856  sequence_19401         47.4  sequence_19347         58.9  16852.986398\n",
       "67857  sequence_19401         47.4  sequence_19379         50.3  10269.414721\n",
       "67858  sequence_19401         47.4  sequence_19348         46.7  27063.790047\n",
       "67859  sequence_19401         47.4  sequence_19380         48.1  24600.864835\n",
       "\n",
       "[67860 rows x 5 columns]"
      ]
     },
     "execution_count": 6,
     "metadata": {},
     "output_type": "execute_result"
    }
   ],
   "source": [
    "#Instancia del objeto\n",
    "distance_instance = distance_estimator(input_data,\n",
    "                                       1,\n",
    "                                       constant_values(),\n",
    "                                       column_with_response,\n",
    "                                       column_with_id)\n",
    "\n",
    "#estimar distancias\n",
    "distance_instance.generate_matrix_distance(name_export=name_export,\n",
    "                                           is_export=True)"
   ]
  }
 ],
 "metadata": {
  "kernelspec": {
   "display_name": "Python 3.10.6 ('deep_learning_exploring')",
   "language": "python",
   "name": "python3"
  },
  "language_info": {
   "codemirror_mode": {
    "name": "ipython",
    "version": 3
   },
   "file_extension": ".py",
   "mimetype": "text/x-python",
   "name": "python",
   "nbconvert_exporter": "python",
   "pygments_lexer": "ipython3",
   "version": "3.10.6"
  },
  "orig_nbformat": 4,
  "vscode": {
   "interpreter": {
    "hash": "40e745f296283c3457427b1d4d0e6f488c7d44751c90dcd83420fd4dcb83c0cc"
   }
  }
 },
 "nbformat": 4,
 "nbformat_minor": 2
}
