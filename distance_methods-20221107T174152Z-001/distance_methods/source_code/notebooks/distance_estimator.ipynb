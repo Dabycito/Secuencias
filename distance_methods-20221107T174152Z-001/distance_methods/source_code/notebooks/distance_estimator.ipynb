{
 "cells": [
  {
   "cell_type": "markdown",
   "metadata": {},
   "source": [
    "<h3> Estimador de distancias entre vectores </h3>"
   ]
  },
  {
   "cell_type": "code",
   "execution_count": 27,
   "metadata": {},
   "outputs": [],
   "source": [
    "import pandas as pd\n",
    "import sys\n"
   ]
  },
  {
   "cell_type": "code",
   "execution_count": 28,
   "metadata": {},
   "outputs": [],
   "source": [
    "#agregamos el directorio con la informacion\n",
    "sys.path.insert(0, '../distance_estimator/')"
   ]
  },
  {
   "cell_type": "code",
   "execution_count": 29,
   "metadata": {},
   "outputs": [
    {
     "name": "stdout",
     "output_type": "stream",
     "text": [
      "Preparing imports\n"
     ]
    }
   ],
   "source": [
    "print(\"Preparing imports\")\n",
    "\n",
    "from distance_estimator import distance_estimator\n",
    "from constant_values import constant_values"
   ]
  },
  {
   "cell_type": "code",
   "execution_count": 30,
   "outputs": [],
   "source": [
    "dis = {\n",
    "1 : \"Euclidean\",\n",
    "2 : \"Braycurtis\",\n",
    "3 : \"Canberra\",\n",
    "4 : \"Chebyshev\",\n",
    "5 : \"Cityblock\",\n",
    "6 : \"Correlation\",\n",
    "7 : \"Cosine\",\n",
    "8 : \"Minkowski\",\n",
    "9 : \"Hamming\",\n",
    "}"
   ],
   "metadata": {
    "collapsed": false
   }
  },
  {
   "cell_type": "code",
   "execution_count": 31,
   "outputs": [
    {
     "data": {
      "text/plain": "'Hamming'"
     },
     "execution_count": 31,
     "metadata": {},
     "output_type": "execute_result"
    }
   ],
   "source": [
    "dis[9]"
   ],
   "metadata": {
    "collapsed": false
   }
  },
  {
   "cell_type": "code",
   "execution_count": 34,
   "outputs": [
    {
     "name": "stdout",
     "output_type": "stream",
     "text": [
      "Start distance calculator\n",
      "Process response\n",
      "../../results_demo/T50/FFT/Group_1/Hamming/distance_estimator.csv\n"
     ]
    }
   ],
   "source": [
    "#definicion de parametros\n",
    "input_data = pd.read_csv(\"../../results_demo/T50/FFT/Group_1/fft-Group_1-T50.csv\")\n",
    "column_with_response = \"target\"\n",
    "column_with_id = \"id\"\n",
    "\n",
    "for i in range(9,10):\n",
    "    name_export = \"../../results_demo/T50/FFT/Group_1/\"+dis[i]+\"/distance_estimator.csv\"\n",
    "    #Instancia del objeto\n",
    "    distance_instance = distance_estimator(input_data,\n",
    "                                       i,\n",
    "                                       constant_values(),\n",
    "                                       column_with_response,\n",
    "                                       column_with_id)\n",
    "\n",
    "    #estimar distancias\n",
    "    distance_instance.generate_matrix_distance(name_export=name_export,\n",
    "                                           is_export=True)"
   ],
   "metadata": {
    "collapsed": false
   }
  },
  {
   "cell_type": "code",
   "execution_count": null,
   "outputs": [],
   "source": [],
   "metadata": {
    "collapsed": false
   }
  }
 ],
 "metadata": {
  "kernelspec": {
   "display_name": "Python 3.10.6 ('deep_learning_exploring')",
   "language": "python",
   "name": "python3"
  },
  "language_info": {
   "codemirror_mode": {
    "name": "ipython",
    "version": 3
   },
   "file_extension": ".py",
   "mimetype": "text/x-python",
   "name": "python",
   "nbconvert_exporter": "python",
   "pygments_lexer": "ipython3",
   "version": "3.10.6"
  },
  "orig_nbformat": 4,
  "vscode": {
   "interpreter": {
    "hash": "40e745f296283c3457427b1d4d0e6f488c7d44751c90dcd83420fd4dcb83c0cc"
   }
  }
 },
 "nbformat": 4,
 "nbformat_minor": 2
}
