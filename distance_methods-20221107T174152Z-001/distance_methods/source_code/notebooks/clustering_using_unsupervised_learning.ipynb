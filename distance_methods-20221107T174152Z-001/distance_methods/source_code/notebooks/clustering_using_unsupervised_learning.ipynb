{
 "cells": [
  {
   "cell_type": "code",
   "execution_count": 1,
   "outputs": [
    {
     "name": "stdout",
     "output_type": "stream",
     "text": [
      "Collecting scikit-learn\n",
      "  Downloading scikit_learn-1.1.3-cp39-cp39-win_amd64.whl (7.6 MB)\n",
      "Requirement already satisfied: joblib>=1.0.0 in c:\\users\\0\\documents\\github\\secuencias\\venv\\lib\\site-packages (from scikit-learn) (1.2.0)\n",
      "Collecting threadpoolctl>=2.0.0\n",
      "  Using cached threadpoolctl-3.1.0-py3-none-any.whl (14 kB)\n",
      "Requirement already satisfied: numpy>=1.17.3 in c:\\users\\0\\documents\\github\\secuencias\\venv\\lib\\site-packages (from scikit-learn) (1.23.4)\n",
      "Requirement already satisfied: scipy>=1.3.2 in c:\\users\\0\\documents\\github\\secuencias\\venv\\lib\\site-packages (from scikit-learn) (1.9.3)\n",
      "Installing collected packages: threadpoolctl, scikit-learn\n",
      "Successfully installed scikit-learn-1.1.3 threadpoolctl-3.1.0\n"
     ]
    },
    {
     "name": "stderr",
     "output_type": "stream",
     "text": [
      "WARNING: You are using pip version 21.3.1; however, version 22.3.1 is available.\n",
      "You should consider upgrading via the 'C:\\Users\\0\\Documents\\GitHub\\Secuencias\\venv\\Scripts\\python.exe -m pip install --upgrade pip' command.\n"
     ]
    }
   ],
   "source": [
    "!pip install scikit-learn"
   ],
   "metadata": {
    "collapsed": false,
    "pycharm": {
     "name": "#%%\n"
    }
   }
  },
  {
   "cell_type": "code",
   "execution_count": 2,
   "outputs": [],
   "source": [
    "import pandas as pd\n",
    "from sklearn.cluster import KMeans, DBSCAN, MeanShift, MiniBatchKMeans, Birch, AffinityPropagation, AgglomerativeClustering\n",
    "from sklearn import metrics"
   ],
   "metadata": {
    "collapsed": false,
    "pycharm": {
     "name": "#%%\n"
    }
   }
  },
  {
   "cell_type": "code",
   "execution_count": 30,
   "metadata": {
    "pycharm": {
     "name": "#%%\n"
    }
   },
   "outputs": [
    {
     "data": {
      "text/plain": "                id  target     p_0     p_1     p_2     p_3     p_4     p_5  \\\n0   sequence_40826     539  0.1275  0.0336  0.0268  0.0302  0.0000  0.0268   \n1   sequence_40787     510  0.1309  0.0336  0.0268  0.0302  0.0000  0.0268   \n2   sequence_40789     510  0.1275  0.0336  0.0268  0.0302  0.0000  0.0268   \n3   sequence_40794     519  0.1275  0.0369  0.0268  0.0302  0.0000  0.0268   \n4   sequence_40806     525  0.1309  0.0336  0.0268  0.0302  0.0000  0.0268   \n..             ...     ...     ...     ...     ...     ...     ...     ...   \n76  sequence_40795     562  0.1275  0.0336  0.0268  0.0302  0.0034  0.0268   \n77  sequence_40866     620  0.1242  0.0336  0.0268  0.0268  0.0034  0.0268   \n78  sequence_40799     597  0.1242  0.0336  0.0268  0.0302  0.0034  0.0268   \n79  sequence_40788     510  0.1242  0.0336  0.0268  0.0302  0.0034  0.0268   \n80  sequence_40867     622  0.1242  0.0336  0.0268  0.0268  0.0034  0.0268   \n\n       p_6     p_7  ...   p_111   p_112   p_113   p_114   p_115   p_116  \\\n0   0.0302  0.0570  ... -2.8427 -1.2708 -0.3906 -0.0434 -1.7144 -0.1575   \n1   0.0302  0.0570  ... -2.8364 -1.2318 -0.3848 -0.0487 -1.7134 -0.1354   \n2   0.0302  0.0604  ... -2.8511 -1.2120 -0.4116 -0.0691 -1.7377 -0.0950   \n3   0.0302  0.0570  ... -2.8301 -1.2142 -0.4579 -0.0766 -1.7762 -0.0257   \n4   0.0302  0.0570  ... -2.8361 -1.2607 -0.4201 -0.0540 -1.7401 -0.1217   \n..     ...     ...  ...     ...     ...     ...     ...     ...     ...   \n76  0.0302  0.0570  ... -2.8248 -1.2742 -0.3833 -0.0325 -1.7116 -0.1763   \n77  0.0336  0.0570  ... -2.8455 -1.2491 -0.3865 -0.0424 -1.6910 -0.1050   \n78  0.0302  0.0570  ... -2.8890 -1.2626 -0.3630 -0.0460 -1.6751 -0.1030   \n79  0.0302  0.0604  ... -2.8783 -1.1861 -0.3999 -0.0667 -1.7065 -0.0575   \n80  0.0336  0.0570  ... -2.8691 -1.2489 -0.3730 -0.0473 -1.6724 -0.0816   \n\n     p_117   p_118   p_119   p_120  \n0  -0.0376 -0.3315 -0.2037  2.8835  \n1  -0.0321 -0.3253 -0.2264  2.8325  \n2  -0.0326 -0.3248 -0.2055  2.8375  \n3  -0.0328 -0.3276 -0.2366  2.8518  \n4  -0.0339 -0.3242 -0.2101  2.8449  \n..     ...     ...     ...     ...  \n76 -0.0210 -0.3231 -0.2080  2.8842  \n77 -0.0241 -0.2965 -0.1698  2.8735  \n78 -0.0269 -0.2975 -0.1892  2.8983  \n79 -0.0251 -0.3028 -0.2008  2.8420  \n80 -0.0330 -0.2820 -0.1519  2.8892  \n\n[81 rows x 123 columns]",
      "text/html": "<div>\n<style scoped>\n    .dataframe tbody tr th:only-of-type {\n        vertical-align: middle;\n    }\n\n    .dataframe tbody tr th {\n        vertical-align: top;\n    }\n\n    .dataframe thead th {\n        text-align: right;\n    }\n</style>\n<table border=\"1\" class=\"dataframe\">\n  <thead>\n    <tr style=\"text-align: right;\">\n      <th></th>\n      <th>id</th>\n      <th>target</th>\n      <th>p_0</th>\n      <th>p_1</th>\n      <th>p_2</th>\n      <th>p_3</th>\n      <th>p_4</th>\n      <th>p_5</th>\n      <th>p_6</th>\n      <th>p_7</th>\n      <th>...</th>\n      <th>p_111</th>\n      <th>p_112</th>\n      <th>p_113</th>\n      <th>p_114</th>\n      <th>p_115</th>\n      <th>p_116</th>\n      <th>p_117</th>\n      <th>p_118</th>\n      <th>p_119</th>\n      <th>p_120</th>\n    </tr>\n  </thead>\n  <tbody>\n    <tr>\n      <th>0</th>\n      <td>sequence_40826</td>\n      <td>539</td>\n      <td>0.1275</td>\n      <td>0.0336</td>\n      <td>0.0268</td>\n      <td>0.0302</td>\n      <td>0.0000</td>\n      <td>0.0268</td>\n      <td>0.0302</td>\n      <td>0.0570</td>\n      <td>...</td>\n      <td>-2.8427</td>\n      <td>-1.2708</td>\n      <td>-0.3906</td>\n      <td>-0.0434</td>\n      <td>-1.7144</td>\n      <td>-0.1575</td>\n      <td>-0.0376</td>\n      <td>-0.3315</td>\n      <td>-0.2037</td>\n      <td>2.8835</td>\n    </tr>\n    <tr>\n      <th>1</th>\n      <td>sequence_40787</td>\n      <td>510</td>\n      <td>0.1309</td>\n      <td>0.0336</td>\n      <td>0.0268</td>\n      <td>0.0302</td>\n      <td>0.0000</td>\n      <td>0.0268</td>\n      <td>0.0302</td>\n      <td>0.0570</td>\n      <td>...</td>\n      <td>-2.8364</td>\n      <td>-1.2318</td>\n      <td>-0.3848</td>\n      <td>-0.0487</td>\n      <td>-1.7134</td>\n      <td>-0.1354</td>\n      <td>-0.0321</td>\n      <td>-0.3253</td>\n      <td>-0.2264</td>\n      <td>2.8325</td>\n    </tr>\n    <tr>\n      <th>2</th>\n      <td>sequence_40789</td>\n      <td>510</td>\n      <td>0.1275</td>\n      <td>0.0336</td>\n      <td>0.0268</td>\n      <td>0.0302</td>\n      <td>0.0000</td>\n      <td>0.0268</td>\n      <td>0.0302</td>\n      <td>0.0604</td>\n      <td>...</td>\n      <td>-2.8511</td>\n      <td>-1.2120</td>\n      <td>-0.4116</td>\n      <td>-0.0691</td>\n      <td>-1.7377</td>\n      <td>-0.0950</td>\n      <td>-0.0326</td>\n      <td>-0.3248</td>\n      <td>-0.2055</td>\n      <td>2.8375</td>\n    </tr>\n    <tr>\n      <th>3</th>\n      <td>sequence_40794</td>\n      <td>519</td>\n      <td>0.1275</td>\n      <td>0.0369</td>\n      <td>0.0268</td>\n      <td>0.0302</td>\n      <td>0.0000</td>\n      <td>0.0268</td>\n      <td>0.0302</td>\n      <td>0.0570</td>\n      <td>...</td>\n      <td>-2.8301</td>\n      <td>-1.2142</td>\n      <td>-0.4579</td>\n      <td>-0.0766</td>\n      <td>-1.7762</td>\n      <td>-0.0257</td>\n      <td>-0.0328</td>\n      <td>-0.3276</td>\n      <td>-0.2366</td>\n      <td>2.8518</td>\n    </tr>\n    <tr>\n      <th>4</th>\n      <td>sequence_40806</td>\n      <td>525</td>\n      <td>0.1309</td>\n      <td>0.0336</td>\n      <td>0.0268</td>\n      <td>0.0302</td>\n      <td>0.0000</td>\n      <td>0.0268</td>\n      <td>0.0302</td>\n      <td>0.0570</td>\n      <td>...</td>\n      <td>-2.8361</td>\n      <td>-1.2607</td>\n      <td>-0.4201</td>\n      <td>-0.0540</td>\n      <td>-1.7401</td>\n      <td>-0.1217</td>\n      <td>-0.0339</td>\n      <td>-0.3242</td>\n      <td>-0.2101</td>\n      <td>2.8449</td>\n    </tr>\n    <tr>\n      <th>...</th>\n      <td>...</td>\n      <td>...</td>\n      <td>...</td>\n      <td>...</td>\n      <td>...</td>\n      <td>...</td>\n      <td>...</td>\n      <td>...</td>\n      <td>...</td>\n      <td>...</td>\n      <td>...</td>\n      <td>...</td>\n      <td>...</td>\n      <td>...</td>\n      <td>...</td>\n      <td>...</td>\n      <td>...</td>\n      <td>...</td>\n      <td>...</td>\n      <td>...</td>\n      <td>...</td>\n    </tr>\n    <tr>\n      <th>76</th>\n      <td>sequence_40795</td>\n      <td>562</td>\n      <td>0.1275</td>\n      <td>0.0336</td>\n      <td>0.0268</td>\n      <td>0.0302</td>\n      <td>0.0034</td>\n      <td>0.0268</td>\n      <td>0.0302</td>\n      <td>0.0570</td>\n      <td>...</td>\n      <td>-2.8248</td>\n      <td>-1.2742</td>\n      <td>-0.3833</td>\n      <td>-0.0325</td>\n      <td>-1.7116</td>\n      <td>-0.1763</td>\n      <td>-0.0210</td>\n      <td>-0.3231</td>\n      <td>-0.2080</td>\n      <td>2.8842</td>\n    </tr>\n    <tr>\n      <th>77</th>\n      <td>sequence_40866</td>\n      <td>620</td>\n      <td>0.1242</td>\n      <td>0.0336</td>\n      <td>0.0268</td>\n      <td>0.0268</td>\n      <td>0.0034</td>\n      <td>0.0268</td>\n      <td>0.0336</td>\n      <td>0.0570</td>\n      <td>...</td>\n      <td>-2.8455</td>\n      <td>-1.2491</td>\n      <td>-0.3865</td>\n      <td>-0.0424</td>\n      <td>-1.6910</td>\n      <td>-0.1050</td>\n      <td>-0.0241</td>\n      <td>-0.2965</td>\n      <td>-0.1698</td>\n      <td>2.8735</td>\n    </tr>\n    <tr>\n      <th>78</th>\n      <td>sequence_40799</td>\n      <td>597</td>\n      <td>0.1242</td>\n      <td>0.0336</td>\n      <td>0.0268</td>\n      <td>0.0302</td>\n      <td>0.0034</td>\n      <td>0.0268</td>\n      <td>0.0302</td>\n      <td>0.0570</td>\n      <td>...</td>\n      <td>-2.8890</td>\n      <td>-1.2626</td>\n      <td>-0.3630</td>\n      <td>-0.0460</td>\n      <td>-1.6751</td>\n      <td>-0.1030</td>\n      <td>-0.0269</td>\n      <td>-0.2975</td>\n      <td>-0.1892</td>\n      <td>2.8983</td>\n    </tr>\n    <tr>\n      <th>79</th>\n      <td>sequence_40788</td>\n      <td>510</td>\n      <td>0.1242</td>\n      <td>0.0336</td>\n      <td>0.0268</td>\n      <td>0.0302</td>\n      <td>0.0034</td>\n      <td>0.0268</td>\n      <td>0.0302</td>\n      <td>0.0604</td>\n      <td>...</td>\n      <td>-2.8783</td>\n      <td>-1.1861</td>\n      <td>-0.3999</td>\n      <td>-0.0667</td>\n      <td>-1.7065</td>\n      <td>-0.0575</td>\n      <td>-0.0251</td>\n      <td>-0.3028</td>\n      <td>-0.2008</td>\n      <td>2.8420</td>\n    </tr>\n    <tr>\n      <th>80</th>\n      <td>sequence_40867</td>\n      <td>622</td>\n      <td>0.1242</td>\n      <td>0.0336</td>\n      <td>0.0268</td>\n      <td>0.0268</td>\n      <td>0.0034</td>\n      <td>0.0268</td>\n      <td>0.0336</td>\n      <td>0.0570</td>\n      <td>...</td>\n      <td>-2.8691</td>\n      <td>-1.2489</td>\n      <td>-0.3730</td>\n      <td>-0.0473</td>\n      <td>-1.6724</td>\n      <td>-0.0816</td>\n      <td>-0.0330</td>\n      <td>-0.2820</td>\n      <td>-0.1519</td>\n      <td>2.8892</td>\n    </tr>\n  </tbody>\n</table>\n<p>81 rows × 123 columns</p>\n</div>"
     },
     "execution_count": 30,
     "metadata": {},
     "output_type": "execute_result"
    }
   ],
   "source": [
    "df_data = pd.read_csv(\"../../results_demo/absorption/NLP/bepler/bepler-absortion.csv\")\n",
    "df_data"
   ]
  },
  {
   "cell_type": "code",
   "execution_count": 31,
   "metadata": {
    "pycharm": {
     "name": "#%%\n"
    }
   },
   "outputs": [],
   "source": [
    "def get_performance_clustering(data, labels):\n",
    "    siluetas = metrics.silhouette_score(data, labels, metric='euclidean')\n",
    "    calinski = metrics.calinski_harabasz_score(data, labels)\n",
    "    davies = metrics.davies_bouldin_score(data, labels)\n",
    "\n",
    "    return siluetas, calinski, davies"
   ]
  },
  {
   "cell_type": "code",
   "execution_count": 32,
   "metadata": {
    "pycharm": {
     "name": "#%%\n"
    }
   },
   "outputs": [],
   "source": [
    "#ignoramos y removemos las columnas que no ocuparemos para el clustering\n",
    "ignore_columns = pd.DataFrame()\n",
    "ignore_columns['id'] = df_data['id']\n",
    "ignore_columns['target'] = df_data['target']\n",
    "\n",
    "df_data = df_data.drop(columns=['id', 'target'])"
   ]
  },
  {
   "cell_type": "code",
   "execution_count": 33,
   "metadata": {
    "pycharm": {
     "name": "#%%\n"
    }
   },
   "outputs": [],
   "source": [
    "#exploramos KNN\n",
    "matrix_result = []\n",
    "for k in range(2, 30):\n",
    "    kmeans = KMeans(n_clusters=k, random_state=0)\n",
    "    kmeans.fit(df_data)\n",
    "    siluetas, calinski, davies = get_performance_clustering(df_data, kmeans.labels_)\n",
    "    row = [\"k-means-{}\".format(k), siluetas, calinski, davies]\n",
    "    matrix_result.append(row)\n",
    "\n",
    "df_explore = pd.DataFrame(matrix_result, columns=['strategy', 'siluetas', 'calinski', 'davies'])\n",
    "df_explore.to_csv(\"../../results_demo/absorption/NLP/bepler/results_kmeans.csv\")"
   ]
  },
  {
   "cell_type": "code",
   "execution_count": 34,
   "outputs": [
    {
     "data": {
      "text/plain": "array(['k-means-3'], dtype=object)"
     },
     "execution_count": 34,
     "metadata": {},
     "output_type": "execute_result"
    }
   ],
   "source": [
    "#seleccionamos el mejor\n",
    "import numpy as np\n",
    "\n",
    "highest_siluetas = np.max(df_explore['siluetas'])\n",
    "highest_calinski = np.max(df_explore['calinski'])\n",
    "\n",
    "# filtramos\n",
    "df_filter_by_siluetas = df_explore.loc[df_explore['siluetas'] >= highest_siluetas]\n",
    "df_filter_by_calinski = df_explore.loc[df_explore['calinski'] >= highest_calinski]\n",
    "\n",
    "df_concat = pd.concat([df_filter_by_siluetas, df_filter_by_calinski])\n",
    "strategies = df_concat['strategy'].unique()\n",
    "strategies\n"
   ],
   "metadata": {
    "collapsed": false,
    "pycharm": {
     "name": "#%%\n"
    }
   }
  },
  {
   "cell_type": "code",
   "execution_count": 35,
   "outputs": [],
   "source": [
    "kmeans = KMeans(n_clusters=3, random_state=0)\n",
    "kmeans.fit(df_data)\n",
    "ignore_columns['labels'] = kmeans.labels_\n",
    "\n",
    "ignore_columns.to_csv(\"../../results_demo/absorption/NLP/bepler/unsupervised_clustering_sequences_kmeans.csv\")"
   ],
   "metadata": {
    "collapsed": false,
    "pycharm": {
     "name": "#%%\n"
    }
   }
  },
  {
   "cell_type": "code",
   "execution_count": 48,
   "outputs": [],
   "source": [
    "#exploramos BIRCH\n",
    "matrix_result = []\n",
    "for k in range(2, 30):\n",
    "    birch = Birch(n_clusters=k,threshold=0.1)\n",
    "    birch.fit(df_data)\n",
    "    siluetas, calinski, davies = get_performance_clustering(df_data, birch.labels_)\n",
    "    row = [\"birch-{}\".format(k), siluetas, calinski, davies]\n",
    "    matrix_result.append(row)\n",
    "\n",
    "df_explore = pd.DataFrame(matrix_result, columns=['strategy', 'siluetas', 'calinski', 'davies'])\n",
    "df_explore.to_csv(\"../../results_demo/absorption/NLP/bepler/results_birch.csv\")"
   ],
   "metadata": {
    "collapsed": false,
    "pycharm": {
     "name": "#%%\n"
    }
   }
  },
  {
   "cell_type": "code",
   "execution_count": 49,
   "outputs": [
    {
     "data": {
      "text/plain": "array(['birch-3'], dtype=object)"
     },
     "execution_count": 49,
     "metadata": {},
     "output_type": "execute_result"
    }
   ],
   "source": [
    "#seleccionamos el mejor\n",
    "import numpy as np\n",
    "\n",
    "highest_siluetas = np.max(df_explore['siluetas'])\n",
    "highest_calinski = np.max(df_explore['calinski'])\n",
    "\n",
    "# filtramos\n",
    "df_filter_by_siluetas = df_explore.loc[df_explore['siluetas'] >= highest_siluetas]\n",
    "df_filter_by_calinski = df_explore.loc[df_explore['calinski'] >= highest_calinski]\n",
    "\n",
    "df_concat = pd.concat([df_filter_by_siluetas, df_filter_by_calinski])\n",
    "strategies = df_concat['strategy'].unique()\n",
    "strategies"
   ],
   "metadata": {
    "collapsed": false,
    "pycharm": {
     "name": "#%%\n"
    }
   }
  },
  {
   "cell_type": "code",
   "execution_count": 51,
   "outputs": [],
   "source": [
    "birch = Birch(n_clusters=3,threshold=0.1)\n",
    "birch.fit(df_data)\n",
    "ignore_columns['labels'] = birch.labels_\n",
    "\n",
    "ignore_columns.to_csv(\"../../results_demo/absorption/NLP/bepler/unsupervised_clustering_sequences_birch.csv\")"
   ],
   "metadata": {
    "collapsed": false,
    "pycharm": {
     "name": "#%%\n"
    }
   }
  },
  {
   "cell_type": "code",
   "execution_count": 52,
   "outputs": [],
   "source": [
    "#exploramos Aglomerative\n",
    "matrix_result = []\n",
    "for k in range(2, 30):\n",
    "    aglomerative = AgglomerativeClustering(n_clusters=k)\n",
    "    aglomerative.fit(df_data)\n",
    "    siluetas, calinski, davies = get_performance_clustering(df_data, aglomerative.labels_)\n",
    "    row = [\"aglomerative-{}\".format(k), siluetas, calinski, davies]\n",
    "    matrix_result.append(row)\n",
    "\n",
    "df_explore = pd.DataFrame(matrix_result, columns=['strategy', 'siluetas', 'calinski', 'davies'])\n",
    "df_explore.to_csv(\"../../results_demo/absorption/NLP/bepler/results_aglomerative.csv\")"
   ],
   "metadata": {
    "collapsed": false,
    "pycharm": {
     "name": "#%%\n"
    }
   }
  },
  {
   "cell_type": "code",
   "execution_count": 53,
   "metadata": {
    "pycharm": {
     "name": "#%%\n"
    }
   },
   "outputs": [
    {
     "data": {
      "text/plain": "array(['aglomerative-3'], dtype=object)"
     },
     "execution_count": 53,
     "metadata": {},
     "output_type": "execute_result"
    }
   ],
   "source": [
    "#seleccionamos el mejor\n",
    "import numpy as np\n",
    "\n",
    "highest_siluetas = np.max(df_explore['siluetas'])\n",
    "highest_calinski = np.max(df_explore['calinski'])\n",
    "\n",
    "# filtramos\n",
    "df_filter_by_siluetas = df_explore.loc[df_explore['siluetas'] >= highest_siluetas]\n",
    "df_filter_by_calinski = df_explore.loc[df_explore['calinski'] >= highest_calinski]\n",
    "\n",
    "df_concat = pd.concat([df_filter_by_siluetas, df_filter_by_calinski])\n",
    "strategies = df_concat['strategy'].unique()\n",
    "strategies\n"
   ]
  },
  {
   "cell_type": "code",
   "execution_count": 54,
   "outputs": [],
   "source": [
    "# en este caso salio el mejor k-means=2\n",
    "aglomerative = AgglomerativeClustering(n_clusters=3)\n",
    "aglomerative.fit(df_data)\n",
    "ignore_columns['labels'] = aglomerative.labels_\n",
    "\n",
    "ignore_columns.to_csv(\"../../results_demo/absorption/NLP/bepler/unsupervised_clustering_sequences_aglomerative.csv\")"
   ],
   "metadata": {
    "collapsed": false,
    "pycharm": {
     "name": "#%%\n"
    }
   }
  },
  {
   "cell_type": "code",
   "execution_count": null,
   "outputs": [],
   "source": [],
   "metadata": {
    "collapsed": false,
    "pycharm": {
     "name": "#%%\n"
    }
   }
  }
 ],
 "metadata": {
  "kernelspec": {
   "display_name": "Python 3.10.6 ('deep_learning_exploring')",
   "language": "python",
   "name": "python3"
  },
  "language_info": {
   "codemirror_mode": {
    "name": "ipython",
    "version": 3
   },
   "file_extension": ".py",
   "mimetype": "text/x-python",
   "name": "python",
   "nbconvert_exporter": "python",
   "pygments_lexer": "ipython3",
   "version": "3.10.6"
  },
  "orig_nbformat": 4,
  "vscode": {
   "interpreter": {
    "hash": "40e745f296283c3457427b1d4d0e6f488c7d44751c90dcd83420fd4dcb83c0cc"
   }
  }
 },
 "nbformat": 4,
 "nbformat_minor": 2
}