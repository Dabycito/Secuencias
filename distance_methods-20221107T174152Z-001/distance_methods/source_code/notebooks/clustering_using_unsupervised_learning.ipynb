{
 "cells": [
  {
   "cell_type": "code",
   "execution_count": 2,
   "outputs": [
    {
     "name": "stdout",
     "output_type": "stream",
     "text": [
      "pip 22.2.2 from /home/daniel/anaconda3/envs/Secuencias/lib/python3.10/site-packages/pip (python 3.10)\r\n",
      "Note: you may need to restart the kernel to use updated packages.\n"
     ]
    }
   ],
   "source": [
    "pip --version"
   ],
   "metadata": {
    "collapsed": false
   }
  },
  {
   "cell_type": "code",
   "execution_count": 1,
   "outputs": [
    {
     "ename": "ModuleNotFoundError",
     "evalue": "No module named 'sklearn'",
     "output_type": "error",
     "traceback": [
      "\u001B[0;31m---------------------------------------------------------------------------\u001B[0m",
      "\u001B[0;31mModuleNotFoundError\u001B[0m                       Traceback (most recent call last)",
      "Cell \u001B[0;32mIn [1], line 2\u001B[0m\n\u001B[1;32m      1\u001B[0m \u001B[38;5;28;01mimport\u001B[39;00m \u001B[38;5;21;01mpandas\u001B[39;00m \u001B[38;5;28;01mas\u001B[39;00m \u001B[38;5;21;01mpd\u001B[39;00m\n\u001B[0;32m----> 2\u001B[0m \u001B[38;5;28;01mfrom\u001B[39;00m \u001B[38;5;21;01msklearn\u001B[39;00m\u001B[38;5;21;01m.\u001B[39;00m\u001B[38;5;21;01mcluster\u001B[39;00m \u001B[38;5;28;01mimport\u001B[39;00m KMeans, DBSCAN, MeanShift, MiniBatchKMeans, Birch, AffinityPropagation, AgglomerativeClustering\n\u001B[1;32m      3\u001B[0m \u001B[38;5;28;01mfrom\u001B[39;00m \u001B[38;5;21;01msklearn\u001B[39;00m \u001B[38;5;28;01mimport\u001B[39;00m metrics\n",
      "\u001B[0;31mModuleNotFoundError\u001B[0m: No module named 'sklearn'"
     ]
    }
   ],
   "source": [
    "import pandas as pd\n",
    "from sklearn.cluster import KMeans, DBSCAN, MeanShift, MiniBatchKMeans, Birch, AffinityPropagation, AgglomerativeClustering\n",
    "from sklearn import metrics"
   ],
   "metadata": {
    "collapsed": false
   }
  },
  {
   "cell_type": "code",
   "execution_count": 2,
   "metadata": {},
   "outputs": [
    {
     "data": {
      "text/plain": "                 id  target        p_0        p_1        p_2       p_3  \\\n0    sequence_53082    55.0  3150.3724  1398.2832   304.4046  322.2615   \n1    sequence_19402    43.0  4089.1708  1662.4272  1405.1968  410.9328   \n2    sequence_20054    49.0  3080.5184  2893.1993   783.6347  841.6179   \n3    sequence_20048    39.8  2903.3554  1869.1072   415.5416  478.0876   \n4    sequence_20036    52.9  3811.4373  2067.9898   686.2732  638.0182   \n..              ...     ...        ...        ...        ...       ...   \n256  sequence_19347    58.9  3649.3140  1411.1883   720.2269  673.3180   \n257  sequence_19379    50.3  4084.1338  1317.3309   872.5128  528.4260   \n258  sequence_19348    46.7  3591.9182  1360.0874   759.5197  658.3699   \n259  sequence_19380    48.1  4026.7380  1275.5679   904.8241  524.5225   \n260  sequence_19401    47.4  3727.1213  1654.1631  1166.7444  407.2609   \n\n           p_4        p_5        p_6        p_7  ...      p_246      p_247  \\\n0    1140.3002   448.9233  2211.9756   409.6138  ...  1508.2164   634.8306   \n1     973.3000  1157.7834  1250.4681  1081.7327  ...   697.9490   832.8546   \n2     329.7001  1333.9950  1791.7293   892.6078  ...   716.5247  1624.0616   \n3    1095.1734  1141.8583  1038.0731   118.4639  ...  1177.0605   450.7639   \n4     129.6664  1058.5985  1732.0103   935.9170  ...  1104.8274  1101.2819   \n..         ...        ...        ...        ...  ...        ...        ...   \n256  1475.8570   743.9680  2438.6256   509.0155  ...  1177.2494  1018.4538   \n257  1171.6470   578.4036  2406.2618   358.4809  ...  1167.3573  1456.9737   \n258  1600.1503   800.2279  1941.1055   763.6897  ...   625.1967  1185.8617   \n259  1297.4411   670.9226  1909.2017   826.5990  ...   865.6822  1691.3401   \n260  1238.7945   725.8575  2192.1724   471.4763  ...   778.5352  1155.8174   \n\n         p_248      p_249      p_250      p_251      p_252      p_253  \\\n0     410.8776   869.9480  1425.3662  1377.0610   854.7501  1739.4700   \n1    1954.3619  1319.0732  2367.2877   702.5007   717.1917  2163.8280   \n2    1095.6323  1290.2946  2280.0647  1477.6944  1126.2000  1119.3065   \n3    1150.0223   703.6181  2287.0890  1321.2040   439.1027   837.0688   \n4    1074.6408   594.4898  1947.8209  1421.4184   722.6259  1040.1254   \n..         ...        ...        ...        ...        ...        ...   \n256   652.0462   843.3994   989.1185  1254.2274   708.2833  2132.7281   \n257  1083.6956  1234.8467  1149.8969  1003.1823   852.7211  1991.2455   \n258   468.8053  1542.8443   955.0833  1130.1490   868.2722   357.5350   \n259   185.3929  1915.7127  1209.7112   829.3448   649.7138   226.1442   \n260  1083.8459  1380.5553  1515.8813  1379.9997   482.9259  2515.9076   \n\n         p_254      p_255  \n0     885.7743   818.9104  \n1     636.5569   761.5584  \n2     392.5626   543.2948  \n3     782.6262   619.3048  \n4     415.0795   423.4236  \n..         ...        ...  \n256  1255.3700   693.4109  \n257  1188.3289   670.9070  \n258  1330.3681  1165.7786  \n259  1250.4902  1115.2555  \n260   519.0875   193.4826  \n\n[261 rows x 258 columns]",
      "text/html": "<div>\n<style scoped>\n    .dataframe tbody tr th:only-of-type {\n        vertical-align: middle;\n    }\n\n    .dataframe tbody tr th {\n        vertical-align: top;\n    }\n\n    .dataframe thead th {\n        text-align: right;\n    }\n</style>\n<table border=\"1\" class=\"dataframe\">\n  <thead>\n    <tr style=\"text-align: right;\">\n      <th></th>\n      <th>id</th>\n      <th>target</th>\n      <th>p_0</th>\n      <th>p_1</th>\n      <th>p_2</th>\n      <th>p_3</th>\n      <th>p_4</th>\n      <th>p_5</th>\n      <th>p_6</th>\n      <th>p_7</th>\n      <th>...</th>\n      <th>p_246</th>\n      <th>p_247</th>\n      <th>p_248</th>\n      <th>p_249</th>\n      <th>p_250</th>\n      <th>p_251</th>\n      <th>p_252</th>\n      <th>p_253</th>\n      <th>p_254</th>\n      <th>p_255</th>\n    </tr>\n  </thead>\n  <tbody>\n    <tr>\n      <th>0</th>\n      <td>sequence_53082</td>\n      <td>55.0</td>\n      <td>3150.3724</td>\n      <td>1398.2832</td>\n      <td>304.4046</td>\n      <td>322.2615</td>\n      <td>1140.3002</td>\n      <td>448.9233</td>\n      <td>2211.9756</td>\n      <td>409.6138</td>\n      <td>...</td>\n      <td>1508.2164</td>\n      <td>634.8306</td>\n      <td>410.8776</td>\n      <td>869.9480</td>\n      <td>1425.3662</td>\n      <td>1377.0610</td>\n      <td>854.7501</td>\n      <td>1739.4700</td>\n      <td>885.7743</td>\n      <td>818.9104</td>\n    </tr>\n    <tr>\n      <th>1</th>\n      <td>sequence_19402</td>\n      <td>43.0</td>\n      <td>4089.1708</td>\n      <td>1662.4272</td>\n      <td>1405.1968</td>\n      <td>410.9328</td>\n      <td>973.3000</td>\n      <td>1157.7834</td>\n      <td>1250.4681</td>\n      <td>1081.7327</td>\n      <td>...</td>\n      <td>697.9490</td>\n      <td>832.8546</td>\n      <td>1954.3619</td>\n      <td>1319.0732</td>\n      <td>2367.2877</td>\n      <td>702.5007</td>\n      <td>717.1917</td>\n      <td>2163.8280</td>\n      <td>636.5569</td>\n      <td>761.5584</td>\n    </tr>\n    <tr>\n      <th>2</th>\n      <td>sequence_20054</td>\n      <td>49.0</td>\n      <td>3080.5184</td>\n      <td>2893.1993</td>\n      <td>783.6347</td>\n      <td>841.6179</td>\n      <td>329.7001</td>\n      <td>1333.9950</td>\n      <td>1791.7293</td>\n      <td>892.6078</td>\n      <td>...</td>\n      <td>716.5247</td>\n      <td>1624.0616</td>\n      <td>1095.6323</td>\n      <td>1290.2946</td>\n      <td>2280.0647</td>\n      <td>1477.6944</td>\n      <td>1126.2000</td>\n      <td>1119.3065</td>\n      <td>392.5626</td>\n      <td>543.2948</td>\n    </tr>\n    <tr>\n      <th>3</th>\n      <td>sequence_20048</td>\n      <td>39.8</td>\n      <td>2903.3554</td>\n      <td>1869.1072</td>\n      <td>415.5416</td>\n      <td>478.0876</td>\n      <td>1095.1734</td>\n      <td>1141.8583</td>\n      <td>1038.0731</td>\n      <td>118.4639</td>\n      <td>...</td>\n      <td>1177.0605</td>\n      <td>450.7639</td>\n      <td>1150.0223</td>\n      <td>703.6181</td>\n      <td>2287.0890</td>\n      <td>1321.2040</td>\n      <td>439.1027</td>\n      <td>837.0688</td>\n      <td>782.6262</td>\n      <td>619.3048</td>\n    </tr>\n    <tr>\n      <th>4</th>\n      <td>sequence_20036</td>\n      <td>52.9</td>\n      <td>3811.4373</td>\n      <td>2067.9898</td>\n      <td>686.2732</td>\n      <td>638.0182</td>\n      <td>129.6664</td>\n      <td>1058.5985</td>\n      <td>1732.0103</td>\n      <td>935.9170</td>\n      <td>...</td>\n      <td>1104.8274</td>\n      <td>1101.2819</td>\n      <td>1074.6408</td>\n      <td>594.4898</td>\n      <td>1947.8209</td>\n      <td>1421.4184</td>\n      <td>722.6259</td>\n      <td>1040.1254</td>\n      <td>415.0795</td>\n      <td>423.4236</td>\n    </tr>\n    <tr>\n      <th>...</th>\n      <td>...</td>\n      <td>...</td>\n      <td>...</td>\n      <td>...</td>\n      <td>...</td>\n      <td>...</td>\n      <td>...</td>\n      <td>...</td>\n      <td>...</td>\n      <td>...</td>\n      <td>...</td>\n      <td>...</td>\n      <td>...</td>\n      <td>...</td>\n      <td>...</td>\n      <td>...</td>\n      <td>...</td>\n      <td>...</td>\n      <td>...</td>\n      <td>...</td>\n      <td>...</td>\n    </tr>\n    <tr>\n      <th>256</th>\n      <td>sequence_19347</td>\n      <td>58.9</td>\n      <td>3649.3140</td>\n      <td>1411.1883</td>\n      <td>720.2269</td>\n      <td>673.3180</td>\n      <td>1475.8570</td>\n      <td>743.9680</td>\n      <td>2438.6256</td>\n      <td>509.0155</td>\n      <td>...</td>\n      <td>1177.2494</td>\n      <td>1018.4538</td>\n      <td>652.0462</td>\n      <td>843.3994</td>\n      <td>989.1185</td>\n      <td>1254.2274</td>\n      <td>708.2833</td>\n      <td>2132.7281</td>\n      <td>1255.3700</td>\n      <td>693.4109</td>\n    </tr>\n    <tr>\n      <th>257</th>\n      <td>sequence_19379</td>\n      <td>50.3</td>\n      <td>4084.1338</td>\n      <td>1317.3309</td>\n      <td>872.5128</td>\n      <td>528.4260</td>\n      <td>1171.6470</td>\n      <td>578.4036</td>\n      <td>2406.2618</td>\n      <td>358.4809</td>\n      <td>...</td>\n      <td>1167.3573</td>\n      <td>1456.9737</td>\n      <td>1083.6956</td>\n      <td>1234.8467</td>\n      <td>1149.8969</td>\n      <td>1003.1823</td>\n      <td>852.7211</td>\n      <td>1991.2455</td>\n      <td>1188.3289</td>\n      <td>670.9070</td>\n    </tr>\n    <tr>\n      <th>258</th>\n      <td>sequence_19348</td>\n      <td>46.7</td>\n      <td>3591.9182</td>\n      <td>1360.0874</td>\n      <td>759.5197</td>\n      <td>658.3699</td>\n      <td>1600.1503</td>\n      <td>800.2279</td>\n      <td>1941.1055</td>\n      <td>763.6897</td>\n      <td>...</td>\n      <td>625.1967</td>\n      <td>1185.8617</td>\n      <td>468.8053</td>\n      <td>1542.8443</td>\n      <td>955.0833</td>\n      <td>1130.1490</td>\n      <td>868.2722</td>\n      <td>357.5350</td>\n      <td>1330.3681</td>\n      <td>1165.7786</td>\n    </tr>\n    <tr>\n      <th>259</th>\n      <td>sequence_19380</td>\n      <td>48.1</td>\n      <td>4026.7380</td>\n      <td>1275.5679</td>\n      <td>904.8241</td>\n      <td>524.5225</td>\n      <td>1297.4411</td>\n      <td>670.9226</td>\n      <td>1909.2017</td>\n      <td>826.5990</td>\n      <td>...</td>\n      <td>865.6822</td>\n      <td>1691.3401</td>\n      <td>185.3929</td>\n      <td>1915.7127</td>\n      <td>1209.7112</td>\n      <td>829.3448</td>\n      <td>649.7138</td>\n      <td>226.1442</td>\n      <td>1250.4902</td>\n      <td>1115.2555</td>\n    </tr>\n    <tr>\n      <th>260</th>\n      <td>sequence_19401</td>\n      <td>47.4</td>\n      <td>3727.1213</td>\n      <td>1654.1631</td>\n      <td>1166.7444</td>\n      <td>407.2609</td>\n      <td>1238.7945</td>\n      <td>725.8575</td>\n      <td>2192.1724</td>\n      <td>471.4763</td>\n      <td>...</td>\n      <td>778.5352</td>\n      <td>1155.8174</td>\n      <td>1083.8459</td>\n      <td>1380.5553</td>\n      <td>1515.8813</td>\n      <td>1379.9997</td>\n      <td>482.9259</td>\n      <td>2515.9076</td>\n      <td>519.0875</td>\n      <td>193.4826</td>\n    </tr>\n  </tbody>\n</table>\n<p>261 rows × 258 columns</p>\n</div>"
     },
     "execution_count": 2,
     "metadata": {},
     "output_type": "execute_result"
    }
   ],
   "source": [
    "df_data = pd.read_csv(\"../../results_demo/T50/FFT/Group_1/fft-Group_1-T50.csv\")\n",
    "df_data"
   ]
  },
  {
   "cell_type": "code",
   "execution_count": 3,
   "metadata": {},
   "outputs": [],
   "source": [
    "def get_performance_clustering(data, labels):\n",
    "    siluetas = metrics.silhouette_score(data, labels, metric='euclidean')\n",
    "    calinski = metrics.calinski_harabasz_score(data, labels)\n",
    "    davies = metrics.davies_bouldin_score(data, labels)\n",
    "\n",
    "    return siluetas, calinski, davies"
   ]
  },
  {
   "cell_type": "code",
   "execution_count": 4,
   "metadata": {},
   "outputs": [],
   "source": [
    "#ignoramos y removemos las columnas que no ocuparemos para el clustering\n",
    "ignore_columns = pd.DataFrame()\n",
    "ignore_columns['id'] = df_data['id']\n",
    "ignore_columns['target'] = df_data['target']\n",
    "\n",
    "df_data = df_data.drop(columns=['id', 'target'])"
   ]
  },
  {
   "cell_type": "code",
   "execution_count": 5,
   "metadata": {},
   "outputs": [
    {
     "ename": "NameError",
     "evalue": "name 'KMeans' is not defined",
     "output_type": "error",
     "traceback": [
      "\u001B[0;31m---------------------------------------------------------------------------\u001B[0m",
      "\u001B[0;31mNameError\u001B[0m                                 Traceback (most recent call last)",
      "Cell \u001B[0;32mIn [5], line 4\u001B[0m\n\u001B[1;32m      2\u001B[0m matrix_result \u001B[38;5;241m=\u001B[39m []\n\u001B[1;32m      3\u001B[0m \u001B[38;5;28;01mfor\u001B[39;00m k \u001B[38;5;129;01min\u001B[39;00m \u001B[38;5;28mrange\u001B[39m(\u001B[38;5;241m2\u001B[39m, \u001B[38;5;241m30\u001B[39m):\n\u001B[0;32m----> 4\u001B[0m     kmeans \u001B[38;5;241m=\u001B[39m \u001B[43mKMeans\u001B[49m(n_clusters\u001B[38;5;241m=\u001B[39mk, random_state\u001B[38;5;241m=\u001B[39m\u001B[38;5;241m0\u001B[39m)\n\u001B[1;32m      5\u001B[0m     kmeans\u001B[38;5;241m.\u001B[39mfit(df_data)\n\u001B[1;32m      6\u001B[0m     siluetas, calinski, davies \u001B[38;5;241m=\u001B[39m get_performance_clustering(df_data, kmeans\u001B[38;5;241m.\u001B[39mlabels_)\n",
      "\u001B[0;31mNameError\u001B[0m: name 'KMeans' is not defined"
     ]
    }
   ],
   "source": [
    "#exploramos KNN\n",
    "matrix_result = []\n",
    "for k in range(2, 30):\n",
    "    kmeans = KMeans(n_clusters=k, random_state=0)\n",
    "    kmeans.fit(df_data)\n",
    "    siluetas, calinski, davies = get_performance_clustering(df_data, kmeans.labels_)\n",
    "    row = [\"k-means-{}\".format(k), siluetas, calinski, davies]\n",
    "    matrix_result.append(row)\n",
    "\n",
    "df_explore = pd.DataFrame(matrix_result, columns=['strategy', 'siluetas', 'calinski', 'davies'])"
   ]
  },
  {
   "cell_type": "code",
   "execution_count": 6,
   "metadata": {},
   "outputs": [
    {
     "ename": "NameError",
     "evalue": "name 'df_explore' is not defined",
     "output_type": "error",
     "traceback": [
      "\u001B[0;31m---------------------------------------------------------------------------\u001B[0m",
      "\u001B[0;31mNameError\u001B[0m                                 Traceback (most recent call last)",
      "Cell \u001B[0;32mIn [6], line 4\u001B[0m\n\u001B[1;32m      1\u001B[0m \u001B[38;5;66;03m#seleccionamos el mejor\u001B[39;00m\n\u001B[1;32m      2\u001B[0m \u001B[38;5;28;01mimport\u001B[39;00m \u001B[38;5;21;01mnumpy\u001B[39;00m \u001B[38;5;28;01mas\u001B[39;00m \u001B[38;5;21;01mnp\u001B[39;00m\n\u001B[0;32m----> 4\u001B[0m highest_siluetas \u001B[38;5;241m=\u001B[39m np\u001B[38;5;241m.\u001B[39mmax(\u001B[43mdf_explore\u001B[49m[\u001B[38;5;124m'\u001B[39m\u001B[38;5;124msiluetas\u001B[39m\u001B[38;5;124m'\u001B[39m])\n\u001B[1;32m      5\u001B[0m highest_calinski \u001B[38;5;241m=\u001B[39m np\u001B[38;5;241m.\u001B[39mmax(df_explore[\u001B[38;5;124m'\u001B[39m\u001B[38;5;124mcalinski\u001B[39m\u001B[38;5;124m'\u001B[39m])\n\u001B[1;32m      7\u001B[0m \u001B[38;5;66;03m# filtramos\u001B[39;00m\n",
      "\u001B[0;31mNameError\u001B[0m: name 'df_explore' is not defined"
     ]
    }
   ],
   "source": [
    "#seleccionamos el mejor\n",
    "import numpy as np\n",
    "\n",
    "highest_siluetas = np.max(df_explore['siluetas'])\n",
    "highest_calinski = np.max(df_explore['calinski'])\n",
    "\n",
    "# filtramos\n",
    "df_filter_by_siluetas = df_explore.loc[df_explore['siluetas'] >= highest_siluetas]\n",
    "df_filter_by_calinski = df_explore.loc[df_explore['calinski'] >= highest_calinski]\n",
    "\n",
    "df_concat = pd.concat([df_filter_by_siluetas, df_filter_by_calinski])\n",
    "strategies = df_concat['strategy'].unique()\n",
    "strategies\n"
   ]
  },
  {
   "cell_type": "code",
   "execution_count": 7,
   "metadata": {},
   "outputs": [
    {
     "ename": "NameError",
     "evalue": "name 'KMeans' is not defined",
     "output_type": "error",
     "traceback": [
      "\u001B[0;31m---------------------------------------------------------------------------\u001B[0m",
      "\u001B[0;31mNameError\u001B[0m                                 Traceback (most recent call last)",
      "Cell \u001B[0;32mIn [7], line 2\u001B[0m\n\u001B[1;32m      1\u001B[0m \u001B[38;5;66;03m# en este caso salio el mejor k-means=2\u001B[39;00m\n\u001B[0;32m----> 2\u001B[0m kmeans \u001B[38;5;241m=\u001B[39m \u001B[43mKMeans\u001B[49m(n_clusters\u001B[38;5;241m=\u001B[39m\u001B[38;5;241m2\u001B[39m, random_state\u001B[38;5;241m=\u001B[39m\u001B[38;5;241m0\u001B[39m)\n\u001B[1;32m      3\u001B[0m kmeans\u001B[38;5;241m.\u001B[39mfit(df_data)\n\u001B[1;32m      4\u001B[0m ignore_columns[\u001B[38;5;124m'\u001B[39m\u001B[38;5;124mlabels\u001B[39m\u001B[38;5;124m'\u001B[39m] \u001B[38;5;241m=\u001B[39m kmeans\u001B[38;5;241m.\u001B[39mlabels_\n",
      "\u001B[0;31mNameError\u001B[0m: name 'KMeans' is not defined"
     ]
    }
   ],
   "source": [
    "# en este caso salio el mejor k-means=2\n",
    "kmeans = KMeans(n_clusters=2, random_state=0)\n",
    "kmeans.fit(df_data)\n",
    "ignore_columns['labels'] = kmeans.labels_\n",
    "\n",
    "ignore_columns.to_csv(\"../../results_demo/T50/FFT/Group_1/unsupervised_clustering_sequences.csv\")"
   ]
  },
  {
   "cell_type": "code",
   "execution_count": null,
   "outputs": [],
   "source": [],
   "metadata": {
    "collapsed": false
   }
  }
 ],
 "metadata": {
  "kernelspec": {
   "display_name": "Python 3.10.6 ('deep_learning_exploring')",
   "language": "python",
   "name": "python3"
  },
  "language_info": {
   "codemirror_mode": {
    "name": "ipython",
    "version": 3
   },
   "file_extension": ".py",
   "mimetype": "text/x-python",
   "name": "python",
   "nbconvert_exporter": "python",
   "pygments_lexer": "ipython3",
   "version": "3.10.6"
  },
  "orig_nbformat": 4,
  "vscode": {
   "interpreter": {
    "hash": "40e745f296283c3457427b1d4d0e6f488c7d44751c90dcd83420fd4dcb83c0cc"
   }
  }
 },
 "nbformat": 4,
 "nbformat_minor": 2
}
