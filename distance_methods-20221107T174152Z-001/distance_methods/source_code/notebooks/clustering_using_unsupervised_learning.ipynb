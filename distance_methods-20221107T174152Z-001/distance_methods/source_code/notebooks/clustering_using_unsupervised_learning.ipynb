{
 "cells": [
  {
   "cell_type": "code",
   "execution_count": 6,
   "outputs": [
    {
     "name": "stdout",
     "output_type": "stream",
     "text": [
      "Collecting scikit-learn\r\n",
      "  Downloading scikit_learn-1.1.3-cp310-cp310-manylinux_2_17_x86_64.manylinux2014_x86_64.whl (30.5 MB)\r\n",
      "\u001B[2K     \u001B[38;2;114;156;31m━━━━━━━━━━━━━━━━━━━━━━━━━━━━━━━━━━━━━━━\u001B[0m \u001B[32m30.5/30.5 MB\u001B[0m \u001B[31m522.1 kB/s\u001B[0m eta \u001B[36m0:00:00\u001B[0mm eta \u001B[36m0:00:01\u001B[0m[36m0:00:02\u001B[0m\r\n",
      "\u001B[?25hRequirement already satisfied: joblib>=1.0.0 in /home/daniel/.local/lib/python3.10/site-packages (from scikit-learn) (1.2.0)\r\n",
      "Requirement already satisfied: numpy>=1.17.3 in /home/daniel/.local/lib/python3.10/site-packages (from scikit-learn) (1.23.4)\r\n",
      "Collecting threadpoolctl>=2.0.0\r\n",
      "  Using cached threadpoolctl-3.1.0-py3-none-any.whl (14 kB)\r\n",
      "Requirement already satisfied: scipy>=1.3.2 in /home/daniel/.local/lib/python3.10/site-packages (from scikit-learn) (1.9.3)\r\n",
      "Installing collected packages: threadpoolctl, scikit-learn\r\n",
      "Successfully installed scikit-learn-1.1.3 threadpoolctl-3.1.0\r\n"
     ]
    }
   ],
   "source": [
    "!pip install scikit-learn"
   ],
   "metadata": {
    "collapsed": false
   }
  },
  {
   "cell_type": "code",
   "execution_count": 14,
   "outputs": [],
   "source": [
    "import pandas as pd\n",
    "from sklearn.cluster import KMeans, DBSCAN, MeanShift, MiniBatchKMeans, Birch, AffinityPropagation, AgglomerativeClustering\n",
    "from sklearn import metrics"
   ],
   "metadata": {
    "collapsed": false
   }
  },
  {
   "cell_type": "code",
   "execution_count": 45,
   "metadata": {},
   "outputs": [
    {
     "data": {
      "text/plain": "                 id  target        p_0        p_1        p_2       p_3  \\\n0    sequence_53082    55.0  5581.3286  1352.9421   263.7332  721.0711   \n1    sequence_19402    43.0  4899.0463  1339.3273  1327.5561  265.7643   \n2    sequence_20054    49.0  4232.0487  2742.6632   829.8600  507.7918   \n3    sequence_20048    39.8  4141.1666  1603.1525   491.7341  445.5678   \n4    sequence_20036    52.9  5271.4167  1745.1170   918.7657  490.8281   \n..              ...     ...        ...        ...        ...       ...   \n256  sequence_19347    58.9  5706.7836  1261.9006   385.0086  725.2933   \n257  sequence_19379    50.3  5970.6152  1062.7149   535.5449  597.1190   \n258  sequence_19348    46.7  5332.2912   900.9466   654.3819  864.2724   \n259  sequence_19380    48.1  5596.1228   706.2604   740.4600  704.3079   \n260  sequence_19401    47.4  5497.3183  1503.0352   919.4030  479.4481   \n\n           p_4        p_5        p_6        p_7  ...      p_246      p_247  \\\n0    1397.3702  1521.6666  2271.3767   467.4430  ...  1469.6219  2201.6253   \n1    1275.1395   642.2799  1546.7248   651.5814  ...  1355.3607   864.4830   \n2     340.3717  1393.7780  1702.5803  1696.3929  ...  1887.9681  1628.1346   \n3     859.0940  1521.1933  1773.0048   963.5555  ...  1853.2158   617.8683   \n4     654.9796  1269.7122  2054.7238  1634.4521  ...  1835.9097  1006.0810   \n..         ...        ...        ...        ...  ...        ...        ...   \n256  1441.0516  1301.9368  2109.3506   517.5597  ...  1390.9861  2107.3608   \n257  1331.6853  1360.8911  2199.2113   551.0165  ...  1679.5715  2319.9614   \n258  1207.7777  1075.6827  2137.3210   139.5892  ...  1338.9243  1386.9814   \n259  1097.4830  1125.3950  2258.8147   225.8817  ...  1799.7108  1779.1458   \n260  1182.6892  1394.1025  2050.7252   483.2644  ...  1153.5849  2072.8145   \n\n         p_248      p_249      p_250      p_251      p_252      p_253  \\\n0     274.1347  1193.0147  1750.2012  1299.5251   284.9651  2107.7423   \n1    1248.1832   761.0373  2044.5461  1575.8697   739.4454  2053.8490   \n2     969.9843   609.4143  1773.8028  1332.2637  1743.0953  1238.5454   \n3     873.9271   515.3349  2456.8836  1546.0510   773.3633   685.2298   \n4     944.9125   404.1364  1948.0221  1767.9909  1045.0068  1112.8635   \n..         ...        ...        ...        ...        ...        ...   \n256     8.6082  1157.6808  1758.7687  1239.7625   412.2078  2378.1352   \n257   544.0902   956.8960  1604.9936  1003.9962   472.4779  2112.4685   \n258   933.4337  1188.4158  1650.9357  1064.7273  1232.7742   715.3669   \n259   501.8358  1245.9584  1535.1299   647.7608  1063.5335   460.7090   \n260   533.0375   624.1139  1717.4770  1471.0673   265.2243  2703.0690   \n\n         p_254      p_255  \n0     576.5233  1726.2032  \n1     898.7640   773.2994  \n2     826.2339   530.8567  \n3     928.4679   860.0668  \n4     410.3791   416.2101  \n..         ...        ...  \n256   753.1593  1509.4593  \n257   874.6829  1324.0113  \n258  1562.2249   659.4333  \n259  1366.8402   565.4685  \n260   368.8007   952.1106  \n\n[261 rows x 258 columns]",
      "text/html": "<div>\n<style scoped>\n    .dataframe tbody tr th:only-of-type {\n        vertical-align: middle;\n    }\n\n    .dataframe tbody tr th {\n        vertical-align: top;\n    }\n\n    .dataframe thead th {\n        text-align: right;\n    }\n</style>\n<table border=\"1\" class=\"dataframe\">\n  <thead>\n    <tr style=\"text-align: right;\">\n      <th></th>\n      <th>id</th>\n      <th>target</th>\n      <th>p_0</th>\n      <th>p_1</th>\n      <th>p_2</th>\n      <th>p_3</th>\n      <th>p_4</th>\n      <th>p_5</th>\n      <th>p_6</th>\n      <th>p_7</th>\n      <th>...</th>\n      <th>p_246</th>\n      <th>p_247</th>\n      <th>p_248</th>\n      <th>p_249</th>\n      <th>p_250</th>\n      <th>p_251</th>\n      <th>p_252</th>\n      <th>p_253</th>\n      <th>p_254</th>\n      <th>p_255</th>\n    </tr>\n  </thead>\n  <tbody>\n    <tr>\n      <th>0</th>\n      <td>sequence_53082</td>\n      <td>55.0</td>\n      <td>5581.3286</td>\n      <td>1352.9421</td>\n      <td>263.7332</td>\n      <td>721.0711</td>\n      <td>1397.3702</td>\n      <td>1521.6666</td>\n      <td>2271.3767</td>\n      <td>467.4430</td>\n      <td>...</td>\n      <td>1469.6219</td>\n      <td>2201.6253</td>\n      <td>274.1347</td>\n      <td>1193.0147</td>\n      <td>1750.2012</td>\n      <td>1299.5251</td>\n      <td>284.9651</td>\n      <td>2107.7423</td>\n      <td>576.5233</td>\n      <td>1726.2032</td>\n    </tr>\n    <tr>\n      <th>1</th>\n      <td>sequence_19402</td>\n      <td>43.0</td>\n      <td>4899.0463</td>\n      <td>1339.3273</td>\n      <td>1327.5561</td>\n      <td>265.7643</td>\n      <td>1275.1395</td>\n      <td>642.2799</td>\n      <td>1546.7248</td>\n      <td>651.5814</td>\n      <td>...</td>\n      <td>1355.3607</td>\n      <td>864.4830</td>\n      <td>1248.1832</td>\n      <td>761.0373</td>\n      <td>2044.5461</td>\n      <td>1575.8697</td>\n      <td>739.4454</td>\n      <td>2053.8490</td>\n      <td>898.7640</td>\n      <td>773.2994</td>\n    </tr>\n    <tr>\n      <th>2</th>\n      <td>sequence_20054</td>\n      <td>49.0</td>\n      <td>4232.0487</td>\n      <td>2742.6632</td>\n      <td>829.8600</td>\n      <td>507.7918</td>\n      <td>340.3717</td>\n      <td>1393.7780</td>\n      <td>1702.5803</td>\n      <td>1696.3929</td>\n      <td>...</td>\n      <td>1887.9681</td>\n      <td>1628.1346</td>\n      <td>969.9843</td>\n      <td>609.4143</td>\n      <td>1773.8028</td>\n      <td>1332.2637</td>\n      <td>1743.0953</td>\n      <td>1238.5454</td>\n      <td>826.2339</td>\n      <td>530.8567</td>\n    </tr>\n    <tr>\n      <th>3</th>\n      <td>sequence_20048</td>\n      <td>39.8</td>\n      <td>4141.1666</td>\n      <td>1603.1525</td>\n      <td>491.7341</td>\n      <td>445.5678</td>\n      <td>859.0940</td>\n      <td>1521.1933</td>\n      <td>1773.0048</td>\n      <td>963.5555</td>\n      <td>...</td>\n      <td>1853.2158</td>\n      <td>617.8683</td>\n      <td>873.9271</td>\n      <td>515.3349</td>\n      <td>2456.8836</td>\n      <td>1546.0510</td>\n      <td>773.3633</td>\n      <td>685.2298</td>\n      <td>928.4679</td>\n      <td>860.0668</td>\n    </tr>\n    <tr>\n      <th>4</th>\n      <td>sequence_20036</td>\n      <td>52.9</td>\n      <td>5271.4167</td>\n      <td>1745.1170</td>\n      <td>918.7657</td>\n      <td>490.8281</td>\n      <td>654.9796</td>\n      <td>1269.7122</td>\n      <td>2054.7238</td>\n      <td>1634.4521</td>\n      <td>...</td>\n      <td>1835.9097</td>\n      <td>1006.0810</td>\n      <td>944.9125</td>\n      <td>404.1364</td>\n      <td>1948.0221</td>\n      <td>1767.9909</td>\n      <td>1045.0068</td>\n      <td>1112.8635</td>\n      <td>410.3791</td>\n      <td>416.2101</td>\n    </tr>\n    <tr>\n      <th>...</th>\n      <td>...</td>\n      <td>...</td>\n      <td>...</td>\n      <td>...</td>\n      <td>...</td>\n      <td>...</td>\n      <td>...</td>\n      <td>...</td>\n      <td>...</td>\n      <td>...</td>\n      <td>...</td>\n      <td>...</td>\n      <td>...</td>\n      <td>...</td>\n      <td>...</td>\n      <td>...</td>\n      <td>...</td>\n      <td>...</td>\n      <td>...</td>\n      <td>...</td>\n      <td>...</td>\n    </tr>\n    <tr>\n      <th>256</th>\n      <td>sequence_19347</td>\n      <td>58.9</td>\n      <td>5706.7836</td>\n      <td>1261.9006</td>\n      <td>385.0086</td>\n      <td>725.2933</td>\n      <td>1441.0516</td>\n      <td>1301.9368</td>\n      <td>2109.3506</td>\n      <td>517.5597</td>\n      <td>...</td>\n      <td>1390.9861</td>\n      <td>2107.3608</td>\n      <td>8.6082</td>\n      <td>1157.6808</td>\n      <td>1758.7687</td>\n      <td>1239.7625</td>\n      <td>412.2078</td>\n      <td>2378.1352</td>\n      <td>753.1593</td>\n      <td>1509.4593</td>\n    </tr>\n    <tr>\n      <th>257</th>\n      <td>sequence_19379</td>\n      <td>50.3</td>\n      <td>5970.6152</td>\n      <td>1062.7149</td>\n      <td>535.5449</td>\n      <td>597.1190</td>\n      <td>1331.6853</td>\n      <td>1360.8911</td>\n      <td>2199.2113</td>\n      <td>551.0165</td>\n      <td>...</td>\n      <td>1679.5715</td>\n      <td>2319.9614</td>\n      <td>544.0902</td>\n      <td>956.8960</td>\n      <td>1604.9936</td>\n      <td>1003.9962</td>\n      <td>472.4779</td>\n      <td>2112.4685</td>\n      <td>874.6829</td>\n      <td>1324.0113</td>\n    </tr>\n    <tr>\n      <th>258</th>\n      <td>sequence_19348</td>\n      <td>46.7</td>\n      <td>5332.2912</td>\n      <td>900.9466</td>\n      <td>654.3819</td>\n      <td>864.2724</td>\n      <td>1207.7777</td>\n      <td>1075.6827</td>\n      <td>2137.3210</td>\n      <td>139.5892</td>\n      <td>...</td>\n      <td>1338.9243</td>\n      <td>1386.9814</td>\n      <td>933.4337</td>\n      <td>1188.4158</td>\n      <td>1650.9357</td>\n      <td>1064.7273</td>\n      <td>1232.7742</td>\n      <td>715.3669</td>\n      <td>1562.2249</td>\n      <td>659.4333</td>\n    </tr>\n    <tr>\n      <th>259</th>\n      <td>sequence_19380</td>\n      <td>48.1</td>\n      <td>5596.1228</td>\n      <td>706.2604</td>\n      <td>740.4600</td>\n      <td>704.3079</td>\n      <td>1097.4830</td>\n      <td>1125.3950</td>\n      <td>2258.8147</td>\n      <td>225.8817</td>\n      <td>...</td>\n      <td>1799.7108</td>\n      <td>1779.1458</td>\n      <td>501.8358</td>\n      <td>1245.9584</td>\n      <td>1535.1299</td>\n      <td>647.7608</td>\n      <td>1063.5335</td>\n      <td>460.7090</td>\n      <td>1366.8402</td>\n      <td>565.4685</td>\n    </tr>\n    <tr>\n      <th>260</th>\n      <td>sequence_19401</td>\n      <td>47.4</td>\n      <td>5497.3183</td>\n      <td>1503.0352</td>\n      <td>919.4030</td>\n      <td>479.4481</td>\n      <td>1182.6892</td>\n      <td>1394.1025</td>\n      <td>2050.7252</td>\n      <td>483.2644</td>\n      <td>...</td>\n      <td>1153.5849</td>\n      <td>2072.8145</td>\n      <td>533.0375</td>\n      <td>624.1139</td>\n      <td>1717.4770</td>\n      <td>1471.0673</td>\n      <td>265.2243</td>\n      <td>2703.0690</td>\n      <td>368.8007</td>\n      <td>952.1106</td>\n    </tr>\n  </tbody>\n</table>\n<p>261 rows × 258 columns</p>\n</div>"
     },
     "execution_count": 45,
     "metadata": {},
     "output_type": "execute_result"
    }
   ],
   "source": [
    "df_data = pd.read_csv(\"../../results_demo/T50/FFT/Group_7/fft-Group_7-T50.csv\")\n",
    "df_data"
   ]
  },
  {
   "cell_type": "code",
   "execution_count": 46,
   "metadata": {},
   "outputs": [],
   "source": [
    "def get_performance_clustering(data, labels):\n",
    "    siluetas = metrics.silhouette_score(data, labels, metric='euclidean')\n",
    "    calinski = metrics.calinski_harabasz_score(data, labels)\n",
    "    davies = metrics.davies_bouldin_score(data, labels)\n",
    "\n",
    "    return siluetas, calinski, davies"
   ]
  },
  {
   "cell_type": "code",
   "execution_count": 47,
   "metadata": {},
   "outputs": [],
   "source": [
    "#ignoramos y removemos las columnas que no ocuparemos para el clustering\n",
    "ignore_columns = pd.DataFrame()\n",
    "ignore_columns['id'] = df_data['id']\n",
    "ignore_columns['target'] = df_data['target']\n",
    "\n",
    "df_data = df_data.drop(columns=['id', 'target'])"
   ]
  },
  {
   "cell_type": "code",
   "execution_count": 48,
   "metadata": {},
   "outputs": [],
   "source": [
    "#exploramos KNN\n",
    "matrix_result = []\n",
    "for k in range(2, 30):\n",
    "    kmeans = KMeans(n_clusters=k, random_state=0)\n",
    "    kmeans.fit(df_data)\n",
    "    siluetas, calinski, davies = get_performance_clustering(df_data, kmeans.labels_)\n",
    "    row = [\"k-means-{}\".format(k), siluetas, calinski, davies]\n",
    "    matrix_result.append(row)\n",
    "\n",
    "df_explore = pd.DataFrame(matrix_result, columns=['strategy', 'siluetas', 'calinski', 'davies'])"
   ]
  },
  {
   "cell_type": "code",
   "execution_count": 49,
   "metadata": {},
   "outputs": [
    {
     "data": {
      "text/plain": "array(['k-means-2'], dtype=object)"
     },
     "execution_count": 49,
     "metadata": {},
     "output_type": "execute_result"
    }
   ],
   "source": [
    "#seleccionamos el mejor\n",
    "import numpy as np\n",
    "\n",
    "highest_siluetas = np.max(df_explore['siluetas'])\n",
    "highest_calinski = np.max(df_explore['calinski'])\n",
    "\n",
    "# filtramos\n",
    "df_filter_by_siluetas = df_explore.loc[df_explore['siluetas'] >= highest_siluetas]\n",
    "df_filter_by_calinski = df_explore.loc[df_explore['calinski'] >= highest_calinski]\n",
    "\n",
    "df_concat = pd.concat([df_filter_by_siluetas, df_filter_by_calinski])\n",
    "strategies = df_concat['strategy'].unique()\n",
    "strategies\n"
   ]
  },
  {
   "cell_type": "code",
   "execution_count": 50,
   "metadata": {},
   "outputs": [],
   "source": [
    "# en este caso salio el mejor k-means=2\n",
    "kmeans = KMeans(n_clusters=2, random_state=0)\n",
    "kmeans.fit(df_data)\n",
    "ignore_columns['labels'] = kmeans.labels_\n",
    "\n",
    "ignore_columns.to_csv(\"../../results_demo/T50/FFT/Group_7/unsupervised_clustering_sequences.csv\")"
   ]
  },
  {
   "cell_type": "code",
   "execution_count": null,
   "outputs": [],
   "source": [],
   "metadata": {
    "collapsed": false
   }
  }
 ],
 "metadata": {
  "kernelspec": {
   "display_name": "Python 3.10.6 ('deep_learning_exploring')",
   "language": "python",
   "name": "python3"
  },
  "language_info": {
   "codemirror_mode": {
    "name": "ipython",
    "version": 3
   },
   "file_extension": ".py",
   "mimetype": "text/x-python",
   "name": "python",
   "nbconvert_exporter": "python",
   "pygments_lexer": "ipython3",
   "version": "3.10.6"
  },
  "orig_nbformat": 4,
  "vscode": {
   "interpreter": {
    "hash": "40e745f296283c3457427b1d4d0e6f488c7d44751c90dcd83420fd4dcb83c0cc"
   }
  }
 },
 "nbformat": 4,
 "nbformat_minor": 2
}
