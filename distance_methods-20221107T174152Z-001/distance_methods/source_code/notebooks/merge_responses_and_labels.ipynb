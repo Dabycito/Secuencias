{
 "cells": [
  {
   "cell_type": "code",
   "execution_count": 1,
   "metadata": {},
   "outputs": [],
   "source": [
    "import pandas as pd"
   ]
  },
  {
   "cell_type": "code",
   "execution_count": 37,
   "metadata": {},
   "outputs": [],
   "source": [
    "cluster_graph = pd.read_csv(\"../../results_demo/T50/FFT/Group_0/Correlation/graph_clustering_sequences.csv\")\n",
    "cluster_unsupervised = pd.read_csv(\"../../results_demo/T50/FFT/Group_0/unsupervised_clustering_sequences.csv\")"
   ]
  },
  {
   "cell_type": "code",
   "execution_count": 38,
   "metadata": {},
   "outputs": [
    {
     "data": {
      "text/plain": "     Unnamed: 0              id  target  labels\n0             0  sequence_53082    55.0       1\n1             1  sequence_19402    43.0       0\n2             2  sequence_20054    49.0       0\n3             3  sequence_20048    39.8       0\n4             4  sequence_20036    52.9       0\n..          ...             ...     ...     ...\n256         256  sequence_19347    58.9       1\n257         257  sequence_19379    50.3       1\n258         258  sequence_19348    46.7       1\n259         259  sequence_19380    48.1       1\n260         260  sequence_19401    47.4       1\n\n[261 rows x 4 columns]",
      "text/html": "<div>\n<style scoped>\n    .dataframe tbody tr th:only-of-type {\n        vertical-align: middle;\n    }\n\n    .dataframe tbody tr th {\n        vertical-align: top;\n    }\n\n    .dataframe thead th {\n        text-align: right;\n    }\n</style>\n<table border=\"1\" class=\"dataframe\">\n  <thead>\n    <tr style=\"text-align: right;\">\n      <th></th>\n      <th>Unnamed: 0</th>\n      <th>id</th>\n      <th>target</th>\n      <th>labels</th>\n    </tr>\n  </thead>\n  <tbody>\n    <tr>\n      <th>0</th>\n      <td>0</td>\n      <td>sequence_53082</td>\n      <td>55.0</td>\n      <td>1</td>\n    </tr>\n    <tr>\n      <th>1</th>\n      <td>1</td>\n      <td>sequence_19402</td>\n      <td>43.0</td>\n      <td>0</td>\n    </tr>\n    <tr>\n      <th>2</th>\n      <td>2</td>\n      <td>sequence_20054</td>\n      <td>49.0</td>\n      <td>0</td>\n    </tr>\n    <tr>\n      <th>3</th>\n      <td>3</td>\n      <td>sequence_20048</td>\n      <td>39.8</td>\n      <td>0</td>\n    </tr>\n    <tr>\n      <th>4</th>\n      <td>4</td>\n      <td>sequence_20036</td>\n      <td>52.9</td>\n      <td>0</td>\n    </tr>\n    <tr>\n      <th>...</th>\n      <td>...</td>\n      <td>...</td>\n      <td>...</td>\n      <td>...</td>\n    </tr>\n    <tr>\n      <th>256</th>\n      <td>256</td>\n      <td>sequence_19347</td>\n      <td>58.9</td>\n      <td>1</td>\n    </tr>\n    <tr>\n      <th>257</th>\n      <td>257</td>\n      <td>sequence_19379</td>\n      <td>50.3</td>\n      <td>1</td>\n    </tr>\n    <tr>\n      <th>258</th>\n      <td>258</td>\n      <td>sequence_19348</td>\n      <td>46.7</td>\n      <td>1</td>\n    </tr>\n    <tr>\n      <th>259</th>\n      <td>259</td>\n      <td>sequence_19380</td>\n      <td>48.1</td>\n      <td>1</td>\n    </tr>\n    <tr>\n      <th>260</th>\n      <td>260</td>\n      <td>sequence_19401</td>\n      <td>47.4</td>\n      <td>1</td>\n    </tr>\n  </tbody>\n</table>\n<p>261 rows × 4 columns</p>\n</div>"
     },
     "execution_count": 38,
     "metadata": {},
     "output_type": "execute_result"
    }
   ],
   "source": [
    "cluster_unsupervised"
   ]
  },
  {
   "cell_type": "code",
   "execution_count": 39,
   "metadata": {},
   "outputs": [
    {
     "data": {
      "text/plain": "                 id  label  target  labels\n0    sequence_19386      0    50.7       0\n1    sequence_19407      0    49.2       0\n2    sequence_19347      1    58.9       1\n3    sequence_19442      0    47.4       0\n4    sequence_19423      0    61.2       0\n..              ...    ...     ...     ...\n256  sequence_19521      1    53.0       1\n257  sequence_19450      0    46.0       0\n258  sequence_19349      1    58.9       1\n259  sequence_19392      0    50.5       0\n260  sequence_20069      0    53.4       0\n\n[261 rows x 4 columns]",
      "text/html": "<div>\n<style scoped>\n    .dataframe tbody tr th:only-of-type {\n        vertical-align: middle;\n    }\n\n    .dataframe tbody tr th {\n        vertical-align: top;\n    }\n\n    .dataframe thead th {\n        text-align: right;\n    }\n</style>\n<table border=\"1\" class=\"dataframe\">\n  <thead>\n    <tr style=\"text-align: right;\">\n      <th></th>\n      <th>id</th>\n      <th>label</th>\n      <th>target</th>\n      <th>labels</th>\n    </tr>\n  </thead>\n  <tbody>\n    <tr>\n      <th>0</th>\n      <td>sequence_19386</td>\n      <td>0</td>\n      <td>50.7</td>\n      <td>0</td>\n    </tr>\n    <tr>\n      <th>1</th>\n      <td>sequence_19407</td>\n      <td>0</td>\n      <td>49.2</td>\n      <td>0</td>\n    </tr>\n    <tr>\n      <th>2</th>\n      <td>sequence_19347</td>\n      <td>1</td>\n      <td>58.9</td>\n      <td>1</td>\n    </tr>\n    <tr>\n      <th>3</th>\n      <td>sequence_19442</td>\n      <td>0</td>\n      <td>47.4</td>\n      <td>0</td>\n    </tr>\n    <tr>\n      <th>4</th>\n      <td>sequence_19423</td>\n      <td>0</td>\n      <td>61.2</td>\n      <td>0</td>\n    </tr>\n    <tr>\n      <th>...</th>\n      <td>...</td>\n      <td>...</td>\n      <td>...</td>\n      <td>...</td>\n    </tr>\n    <tr>\n      <th>256</th>\n      <td>sequence_19521</td>\n      <td>1</td>\n      <td>53.0</td>\n      <td>1</td>\n    </tr>\n    <tr>\n      <th>257</th>\n      <td>sequence_19450</td>\n      <td>0</td>\n      <td>46.0</td>\n      <td>0</td>\n    </tr>\n    <tr>\n      <th>258</th>\n      <td>sequence_19349</td>\n      <td>1</td>\n      <td>58.9</td>\n      <td>1</td>\n    </tr>\n    <tr>\n      <th>259</th>\n      <td>sequence_19392</td>\n      <td>0</td>\n      <td>50.5</td>\n      <td>0</td>\n    </tr>\n    <tr>\n      <th>260</th>\n      <td>sequence_20069</td>\n      <td>0</td>\n      <td>53.4</td>\n      <td>0</td>\n    </tr>\n  </tbody>\n</table>\n<p>261 rows × 4 columns</p>\n</div>"
     },
     "execution_count": 39,
     "metadata": {},
     "output_type": "execute_result"
    }
   ],
   "source": [
    "df_merge = cluster_graph.merge(cluster_unsupervised, left_on='id', right_on='id')\n",
    "df_merge = df_merge.drop(columns=['Unnamed: 0'])\n",
    "df_merge"
   ]
  },
  {
   "cell_type": "code",
   "execution_count": 40,
   "metadata": {},
   "outputs": [
    {
     "data": {
      "text/plain": "array(['0-0', '1-1', '1-0'], dtype=object)"
     },
     "execution_count": 40,
     "metadata": {},
     "output_type": "execute_result"
    }
   ],
   "source": [
    "#armamos un pseudo bi-clustering o perfil\n",
    "profiles = []\n",
    "\n",
    "for index in df_merge.index:\n",
    "    profile = \"{}-{}\".format(\n",
    "        df_merge['label'][index],\n",
    "        df_merge['labels'][index],\n",
    "    )\n",
    "    profiles.append(profile)\n",
    "\n",
    "df_merge['profile'] = profiles\n",
    "df_merge['profile'].unique()"
   ]
  },
  {
   "cell_type": "code",
   "execution_count": 41,
   "metadata": {},
   "outputs": [],
   "source": [
    "df_merge.to_csv(\"../../results_demo/T50/FFT/Group_0/Correlation/generated_profiles.csv\", index=False)"
   ]
  },
  {
   "cell_type": "code",
   "execution_count": null,
   "outputs": [],
   "source": [],
   "metadata": {
    "collapsed": false
   }
  }
 ],
 "metadata": {
  "kernelspec": {
   "display_name": "Python 3.10.6 ('deep_learning_exploring')",
   "language": "python",
   "name": "python3"
  },
  "language_info": {
   "codemirror_mode": {
    "name": "ipython",
    "version": 3
   },
   "file_extension": ".py",
   "mimetype": "text/x-python",
   "name": "python",
   "nbconvert_exporter": "python",
   "pygments_lexer": "ipython3",
   "version": "3.10.6"
  },
  "orig_nbformat": 4,
  "vscode": {
   "interpreter": {
    "hash": "40e745f296283c3457427b1d4d0e6f488c7d44751c90dcd83420fd4dcb83c0cc"
   }
  }
 },
 "nbformat": 4,
 "nbformat_minor": 2
}
